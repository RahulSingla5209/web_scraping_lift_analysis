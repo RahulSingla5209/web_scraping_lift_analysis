{
 "cells": [
  {
   "cell_type": "markdown",
   "metadata": {
    "id": "C-u1KbIw76Nw"
   },
   "source": [
    "# Scrapper Python script\n",
    "\n",
    "Author - Rahul Singla<br>\n",
    "\n",
    "Co-authors - Anant Gupta, Ishan Patel, Vinay Pahwa, Suchit Das\n",
    "\n",
    "Created on Google Colab"
   ]
  },
  {
   "cell_type": "code",
   "execution_count": null,
   "metadata": {
    "colab": {
     "base_uri": "https://localhost:8080/"
    },
    "id": "Xahra0HYBsCL",
    "outputId": "3696ac77-db1f-41ae-c2e2-b03cb6905438"
   },
   "outputs": [
    {
     "name": "stdout",
     "output_type": "stream",
     "text": [
      "Collecting selenium\n",
      "  Downloading selenium-3.141.0-py2.py3-none-any.whl (904 kB)\n",
      "\u001b[?25l\r",
      "\u001b[K     |▍                               | 10 kB 25.0 MB/s eta 0:00:01\r",
      "\u001b[K     |▊                               | 20 kB 31.0 MB/s eta 0:00:01\r",
      "\u001b[K     |█                               | 30 kB 24.3 MB/s eta 0:00:01\r",
      "\u001b[K     |█▌                              | 40 kB 18.1 MB/s eta 0:00:01\r",
      "\u001b[K     |█▉                              | 51 kB 8.0 MB/s eta 0:00:01\r",
      "\u001b[K     |██▏                             | 61 kB 8.6 MB/s eta 0:00:01\r",
      "\u001b[K     |██▌                             | 71 kB 8.2 MB/s eta 0:00:01\r",
      "\u001b[K     |███                             | 81 kB 7.6 MB/s eta 0:00:01\r",
      "\u001b[K     |███▎                            | 92 kB 7.9 MB/s eta 0:00:01\r",
      "\u001b[K     |███▋                            | 102 kB 8.7 MB/s eta 0:00:01\r",
      "\u001b[K     |████                            | 112 kB 8.7 MB/s eta 0:00:01\r",
      "\u001b[K     |████▍                           | 122 kB 8.7 MB/s eta 0:00:01\r",
      "\u001b[K     |████▊                           | 133 kB 8.7 MB/s eta 0:00:01\r",
      "\u001b[K     |█████                           | 143 kB 8.7 MB/s eta 0:00:01\r",
      "\u001b[K     |█████▍                          | 153 kB 8.7 MB/s eta 0:00:01\r",
      "\u001b[K     |█████▉                          | 163 kB 8.7 MB/s eta 0:00:01\r",
      "\u001b[K     |██████▏                         | 174 kB 8.7 MB/s eta 0:00:01\r",
      "\u001b[K     |██████▌                         | 184 kB 8.7 MB/s eta 0:00:01\r",
      "\u001b[K     |██████▉                         | 194 kB 8.7 MB/s eta 0:00:01\r",
      "\u001b[K     |███████▎                        | 204 kB 8.7 MB/s eta 0:00:01\r",
      "\u001b[K     |███████▋                        | 215 kB 8.7 MB/s eta 0:00:01\r",
      "\u001b[K     |████████                        | 225 kB 8.7 MB/s eta 0:00:01\r",
      "\u001b[K     |████████▎                       | 235 kB 8.7 MB/s eta 0:00:01\r",
      "\u001b[K     |████████▊                       | 245 kB 8.7 MB/s eta 0:00:01\r",
      "\u001b[K     |█████████                       | 256 kB 8.7 MB/s eta 0:00:01\r",
      "\u001b[K     |█████████▍                      | 266 kB 8.7 MB/s eta 0:00:01\r",
      "\u001b[K     |█████████▉                      | 276 kB 8.7 MB/s eta 0:00:01\r",
      "\u001b[K     |██████████▏                     | 286 kB 8.7 MB/s eta 0:00:01\r",
      "\u001b[K     |██████████▌                     | 296 kB 8.7 MB/s eta 0:00:01\r",
      "\u001b[K     |██████████▉                     | 307 kB 8.7 MB/s eta 0:00:01\r",
      "\u001b[K     |███████████▎                    | 317 kB 8.7 MB/s eta 0:00:01\r",
      "\u001b[K     |███████████▋                    | 327 kB 8.7 MB/s eta 0:00:01\r",
      "\u001b[K     |████████████                    | 337 kB 8.7 MB/s eta 0:00:01\r",
      "\u001b[K     |████████████▎                   | 348 kB 8.7 MB/s eta 0:00:01\r",
      "\u001b[K     |████████████▊                   | 358 kB 8.7 MB/s eta 0:00:01\r",
      "\u001b[K     |█████████████                   | 368 kB 8.7 MB/s eta 0:00:01\r",
      "\u001b[K     |█████████████▍                  | 378 kB 8.7 MB/s eta 0:00:01\r",
      "\u001b[K     |█████████████▊                  | 389 kB 8.7 MB/s eta 0:00:01\r",
      "\u001b[K     |██████████████▏                 | 399 kB 8.7 MB/s eta 0:00:01\r",
      "\u001b[K     |██████████████▌                 | 409 kB 8.7 MB/s eta 0:00:01\r",
      "\u001b[K     |██████████████▉                 | 419 kB 8.7 MB/s eta 0:00:01\r",
      "\u001b[K     |███████████████▏                | 430 kB 8.7 MB/s eta 0:00:01\r",
      "\u001b[K     |███████████████▋                | 440 kB 8.7 MB/s eta 0:00:01\r",
      "\u001b[K     |████████████████                | 450 kB 8.7 MB/s eta 0:00:01\r",
      "\u001b[K     |████████████████▎               | 460 kB 8.7 MB/s eta 0:00:01\r",
      "\u001b[K     |████████████████▋               | 471 kB 8.7 MB/s eta 0:00:01\r",
      "\u001b[K     |█████████████████               | 481 kB 8.7 MB/s eta 0:00:01\r",
      "\u001b[K     |█████████████████▍              | 491 kB 8.7 MB/s eta 0:00:01\r",
      "\u001b[K     |█████████████████▊              | 501 kB 8.7 MB/s eta 0:00:01\r",
      "\u001b[K     |██████████████████▏             | 512 kB 8.7 MB/s eta 0:00:01\r",
      "\u001b[K     |██████████████████▌             | 522 kB 8.7 MB/s eta 0:00:01\r",
      "\u001b[K     |██████████████████▉             | 532 kB 8.7 MB/s eta 0:00:01\r",
      "\u001b[K     |███████████████████▏            | 542 kB 8.7 MB/s eta 0:00:01\r",
      "\u001b[K     |███████████████████▋            | 552 kB 8.7 MB/s eta 0:00:01\r",
      "\u001b[K     |████████████████████            | 563 kB 8.7 MB/s eta 0:00:01\r",
      "\u001b[K     |████████████████████▎           | 573 kB 8.7 MB/s eta 0:00:01\r",
      "\u001b[K     |████████████████████▋           | 583 kB 8.7 MB/s eta 0:00:01\r",
      "\u001b[K     |█████████████████████           | 593 kB 8.7 MB/s eta 0:00:01\r",
      "\u001b[K     |█████████████████████▍          | 604 kB 8.7 MB/s eta 0:00:01\r",
      "\u001b[K     |█████████████████████▊          | 614 kB 8.7 MB/s eta 0:00:01\r",
      "\u001b[K     |██████████████████████          | 624 kB 8.7 MB/s eta 0:00:01\r",
      "\u001b[K     |██████████████████████▌         | 634 kB 8.7 MB/s eta 0:00:01\r",
      "\u001b[K     |██████████████████████▉         | 645 kB 8.7 MB/s eta 0:00:01\r",
      "\u001b[K     |███████████████████████▏        | 655 kB 8.7 MB/s eta 0:00:01\r",
      "\u001b[K     |███████████████████████▌        | 665 kB 8.7 MB/s eta 0:00:01\r",
      "\u001b[K     |████████████████████████        | 675 kB 8.7 MB/s eta 0:00:01\r",
      "\u001b[K     |████████████████████████▎       | 686 kB 8.7 MB/s eta 0:00:01\r",
      "\u001b[K     |████████████████████████▋       | 696 kB 8.7 MB/s eta 0:00:01\r",
      "\u001b[K     |█████████████████████████       | 706 kB 8.7 MB/s eta 0:00:01\r",
      "\u001b[K     |█████████████████████████▍      | 716 kB 8.7 MB/s eta 0:00:01\r",
      "\u001b[K     |█████████████████████████▊      | 727 kB 8.7 MB/s eta 0:00:01\r",
      "\u001b[K     |██████████████████████████      | 737 kB 8.7 MB/s eta 0:00:01\r",
      "\u001b[K     |██████████████████████████▍     | 747 kB 8.7 MB/s eta 0:00:01\r",
      "\u001b[K     |██████████████████████████▉     | 757 kB 8.7 MB/s eta 0:00:01\r",
      "\u001b[K     |███████████████████████████▏    | 768 kB 8.7 MB/s eta 0:00:01\r",
      "\u001b[K     |███████████████████████████▌    | 778 kB 8.7 MB/s eta 0:00:01\r",
      "\u001b[K     |████████████████████████████    | 788 kB 8.7 MB/s eta 0:00:01\r",
      "\u001b[K     |████████████████████████████▎   | 798 kB 8.7 MB/s eta 0:00:01\r",
      "\u001b[K     |████████████████████████████▋   | 808 kB 8.7 MB/s eta 0:00:01\r",
      "\u001b[K     |█████████████████████████████   | 819 kB 8.7 MB/s eta 0:00:01\r",
      "\u001b[K     |█████████████████████████████▍  | 829 kB 8.7 MB/s eta 0:00:01\r",
      "\u001b[K     |█████████████████████████████▊  | 839 kB 8.7 MB/s eta 0:00:01\r",
      "\u001b[K     |██████████████████████████████  | 849 kB 8.7 MB/s eta 0:00:01\r",
      "\u001b[K     |██████████████████████████████▍ | 860 kB 8.7 MB/s eta 0:00:01\r",
      "\u001b[K     |██████████████████████████████▉ | 870 kB 8.7 MB/s eta 0:00:01\r",
      "\u001b[K     |███████████████████████████████▏| 880 kB 8.7 MB/s eta 0:00:01\r",
      "\u001b[K     |███████████████████████████████▌| 890 kB 8.7 MB/s eta 0:00:01\r",
      "\u001b[K     |███████████████████████████████▉| 901 kB 8.7 MB/s eta 0:00:01\r",
      "\u001b[K     |████████████████████████████████| 904 kB 8.7 MB/s \n",
      "\u001b[?25hRequirement already satisfied: urllib3 in /usr/local/lib/python3.7/dist-packages (from selenium) (1.24.3)\n",
      "Installing collected packages: selenium\n",
      "Successfully installed selenium-3.141.0\n",
      "Get:1 https://cloud.r-project.org/bin/linux/ubuntu bionic-cran40/ InRelease [3,626 B]\n",
      "Ign:2 https://developer.download.nvidia.com/compute/cuda/repos/ubuntu1804/x86_64  InRelease\n",
      "Get:3 http://security.ubuntu.com/ubuntu bionic-security InRelease [88.7 kB]\n",
      "Ign:4 https://developer.download.nvidia.com/compute/machine-learning/repos/ubuntu1804/x86_64  InRelease\n",
      "Get:5 https://developer.download.nvidia.com/compute/cuda/repos/ubuntu1804/x86_64  Release [696 B]\n",
      "Hit:6 https://developer.download.nvidia.com/compute/machine-learning/repos/ubuntu1804/x86_64  Release\n",
      "Get:7 https://developer.download.nvidia.com/compute/cuda/repos/ubuntu1804/x86_64  Release.gpg [836 B]\n",
      "Get:8 http://ppa.launchpad.net/c2d4u.team/c2d4u4.0+/ubuntu bionic InRelease [15.9 kB]\n",
      "Hit:9 http://archive.ubuntu.com/ubuntu bionic InRelease\n",
      "Get:10 http://archive.ubuntu.com/ubuntu bionic-updates InRelease [88.7 kB]\n",
      "Hit:12 http://ppa.launchpad.net/cran/libgit2/ubuntu bionic InRelease\n",
      "Get:13 https://developer.download.nvidia.com/compute/cuda/repos/ubuntu1804/x86_64  Packages [718 kB]\n",
      "Get:14 http://ppa.launchpad.net/deadsnakes/ppa/ubuntu bionic InRelease [15.9 kB]\n",
      "Get:15 http://security.ubuntu.com/ubuntu bionic-security/universe amd64 Packages [1,428 kB]\n",
      "Hit:16 http://ppa.launchpad.net/graphics-drivers/ppa/ubuntu bionic InRelease\n",
      "Get:17 http://security.ubuntu.com/ubuntu bionic-security/main amd64 Packages [2,326 kB]\n",
      "Get:18 http://archive.ubuntu.com/ubuntu bionic-backports InRelease [74.6 kB]\n",
      "Get:19 http://security.ubuntu.com/ubuntu bionic-security/restricted amd64 Packages [567 kB]\n",
      "Get:20 http://ppa.launchpad.net/c2d4u.team/c2d4u4.0+/ubuntu bionic/main Sources [1,799 kB]\n",
      "Get:21 http://archive.ubuntu.com/ubuntu bionic-updates/restricted amd64 Packages [600 kB]\n",
      "Get:22 http://ppa.launchpad.net/c2d4u.team/c2d4u4.0+/ubuntu bionic/main amd64 Packages [921 kB]\n",
      "Get:23 http://archive.ubuntu.com/ubuntu bionic-updates/universe amd64 Packages [2,202 kB]\n",
      "Get:24 http://ppa.launchpad.net/deadsnakes/ppa/ubuntu bionic/main amd64 Packages [40.8 kB]\n",
      "Get:25 http://archive.ubuntu.com/ubuntu bionic-updates/main amd64 Packages [2,761 kB]\n",
      "Fetched 13.7 MB in 37s (365 kB/s)\n",
      "Reading package lists...\n",
      "Reading package lists...\n",
      "Building dependency tree...\n",
      "Reading state information...\n",
      "The following additional packages will be installed:\n",
      "  chromium-browser chromium-browser-l10n chromium-codecs-ffmpeg-extra\n",
      "Suggested packages:\n",
      "  webaccounts-chromium-extension unity-chromium-extension\n",
      "The following NEW packages will be installed:\n",
      "  chromium-browser chromium-browser-l10n chromium-chromedriver\n",
      "  chromium-codecs-ffmpeg-extra\n",
      "0 upgraded, 4 newly installed, 0 to remove and 107 not upgraded.\n",
      "Need to get 91.8 MB of archives.\n",
      "After this operation, 315 MB of additional disk space will be used.\n",
      "Get:1 http://archive.ubuntu.com/ubuntu bionic-updates/universe amd64 chromium-codecs-ffmpeg-extra amd64 92.0.4515.159-0ubuntu0.18.04.1 [1,124 kB]\n",
      "Get:2 http://archive.ubuntu.com/ubuntu bionic-updates/universe amd64 chromium-browser amd64 92.0.4515.159-0ubuntu0.18.04.1 [81.7 MB]\n",
      "Get:3 http://archive.ubuntu.com/ubuntu bionic-updates/universe amd64 chromium-browser-l10n all 92.0.4515.159-0ubuntu0.18.04.1 [4,026 kB]\n",
      "Get:4 http://archive.ubuntu.com/ubuntu bionic-updates/universe amd64 chromium-chromedriver amd64 92.0.4515.159-0ubuntu0.18.04.1 [4,902 kB]\n",
      "Fetched 91.8 MB in 4min 54s (312 kB/s)\n",
      "Selecting previously unselected package chromium-codecs-ffmpeg-extra.\n",
      "(Reading database ... 148492 files and directories currently installed.)\n",
      "Preparing to unpack .../chromium-codecs-ffmpeg-extra_92.0.4515.159-0ubuntu0.18.04.1_amd64.deb ...\n",
      "Unpacking chromium-codecs-ffmpeg-extra (92.0.4515.159-0ubuntu0.18.04.1) ...\n",
      "Selecting previously unselected package chromium-browser.\n",
      "Preparing to unpack .../chromium-browser_92.0.4515.159-0ubuntu0.18.04.1_amd64.deb ...\n",
      "Unpacking chromium-browser (92.0.4515.159-0ubuntu0.18.04.1) ...\n",
      "Selecting previously unselected package chromium-browser-l10n.\n",
      "Preparing to unpack .../chromium-browser-l10n_92.0.4515.159-0ubuntu0.18.04.1_all.deb ...\n",
      "Unpacking chromium-browser-l10n (92.0.4515.159-0ubuntu0.18.04.1) ...\n",
      "Selecting previously unselected package chromium-chromedriver.\n",
      "Preparing to unpack .../chromium-chromedriver_92.0.4515.159-0ubuntu0.18.04.1_amd64.deb ...\n",
      "Unpacking chromium-chromedriver (92.0.4515.159-0ubuntu0.18.04.1) ...\n",
      "Setting up chromium-codecs-ffmpeg-extra (92.0.4515.159-0ubuntu0.18.04.1) ...\n",
      "Setting up chromium-browser (92.0.4515.159-0ubuntu0.18.04.1) ...\n",
      "update-alternatives: using /usr/bin/chromium-browser to provide /usr/bin/x-www-browser (x-www-browser) in auto mode\n",
      "update-alternatives: using /usr/bin/chromium-browser to provide /usr/bin/gnome-www-browser (gnome-www-browser) in auto mode\n",
      "Setting up chromium-chromedriver (92.0.4515.159-0ubuntu0.18.04.1) ...\n",
      "Setting up chromium-browser-l10n (92.0.4515.159-0ubuntu0.18.04.1) ...\n",
      "Processing triggers for man-db (2.8.3-2ubuntu0.1) ...\n",
      "Processing triggers for hicolor-icon-theme (0.17-2) ...\n",
      "Processing triggers for mime-support (3.60ubuntu1) ...\n",
      "Processing triggers for libc-bin (2.27-3ubuntu1.2) ...\n",
      "/sbin/ldconfig.real: /usr/local/lib/python3.7/dist-packages/ideep4py/lib/libmkldnn.so.0 is not a symbolic link\n",
      "\n",
      "cp: '/usr/lib/chromium-browser/chromedriver' and '/usr/bin/chromedriver' are the same file\n"
     ]
    }
   ],
   "source": [
    "# Use this code if using Colab to run Selenium\n",
    "\n",
    "# Make sure to go to Runtime -> Change runtime and set as hardware accelerator\n",
    "\n",
    "# !kill -9 -1 # Use this line to delete this VM and start a new one. \n",
    "# The above line deletes all files and folders from the current VM and allocates a new one.\n",
    "\n",
    "!pip install selenium\n",
    "!apt-get -q update # to update ubuntu to correctly run apt install\n",
    "!apt install -yq chromium-chromedriver\n",
    "!cp /usr/lib/chromium-browser/chromedriver /usr/bin\n",
    "\n",
    "import sys\n",
    "sys.path.insert(0,'/usr/lib/chromium-browser/chromedriver')\n",
    "from selenium import webdriver\n",
    "chrome_options = webdriver.ChromeOptions()\n",
    "chrome_options.add_argument('--headless')\n",
    "chrome_options.add_argument('--no-sandbox')\n",
    "chrome_options.add_argument('--disable-dev-shm-usage')"
   ]
  },
  {
   "cell_type": "code",
   "execution_count": null,
   "metadata": {
    "id": "EoZj1UaLsSIA"
   },
   "outputs": [],
   "source": [
    "wd = webdriver.Chrome('chromedriver',options=chrome_options)\n",
    "\n",
    "wd.get('https://forums.edmunds.com/discussion/2864/general/x/entry-level-luxury-performance-sedans')"
   ]
  },
  {
   "cell_type": "code",
   "execution_count": null,
   "metadata": {
    "colab": {
     "base_uri": "https://localhost:8080/"
    },
    "id": "5--TLIzhqTE5",
    "outputId": "63a8ad52-2a29-4c50-b3c2-3f7135b0d95c"
   },
   "outputs": [
    {
     "name": "stdout",
     "output_type": "stream",
     "text": [
      "Entry level performance luxury sedans are a hot area for car manufacturers and enthusiasts alike. These sedans show their performance by being fun to drive and handling well. They show luxury by offering leather and some of the important creatures comforts found in the most luxurious upscale sedans. The selection of vehicles that compete in the space is vast and varied.\n",
      "\n",
      "The benchmarks which define this are the BMW 330 and the Audi A4 3.0. But there are many contenders, such as Acura TL-S, Chrysler 300M, Jaguar X-type, Infiniti I35, Mercedes C-Class, Volvo S60 T5. Some companies have contenders that emphasize performance Lexus IS300 or luxury Lexus ES300. And the field is continously growing, with the recent additions being the Cadillac CTS and Infiniti G35.\n",
      "\n",
      "The common charateristics of this entry level perfomance luxury group seem to a price around 30 to 40k (US dollars) and 0-60 times between six and eight seconds.\n",
      "\n",
      "With this wide variety of cars targeted at a similar market segment, the choices for our own personal car are great. But with all these choices, it is hard to understand and personally evaluate all these options. So this topic has been created to start a discussion on the relative merits and personalities of the cars available in this entry level performance luxury field.\n"
     ]
    }
   ],
   "source": [
    "comment=wd.find_elements_by_xpath('//*[@id=\"Discussion_2864\"]/div/div[2]/div/div[1]')[0]\n",
    "comment = comment.text\n",
    "\n",
    "print(comment)"
   ]
  },
  {
   "cell_type": "code",
   "execution_count": null,
   "metadata": {
    "colab": {
     "base_uri": "https://localhost:8080/"
    },
    "id": "TdTkWfJ9DVgZ",
    "outputId": "19779364-72d8-4e8e-85d8-217cba251380"
   },
   "outputs": [
    {
     "name": "stdout",
     "output_type": "stream",
     "text": [
      "March 23, 2002 12:04PM\n",
      "March 2002\n"
     ]
    }
   ],
   "source": [
    "time_element = wd.find_elements_by_xpath('//*[@id=\"Discussion_2864\"]/div/div[1]/div[2]/span[1]/a/time')[0]\n",
    "time = time_element.text\n",
    "date = time_element.get_attribute('title')\n",
    "\n",
    "print(date)\n",
    "print(time)"
   ]
  },
  {
   "cell_type": "code",
   "execution_count": null,
   "metadata": {
    "colab": {
     "base_uri": "https://localhost:8080/"
    },
    "id": "RSiV-NlXI8iO",
    "outputId": "e308f5df-90e5-4b48-d869-64be603d3864"
   },
   "outputs": [
    {
     "name": "stdout",
     "output_type": "stream",
     "text": [
      "cybersol\n"
     ]
    }
   ],
   "source": [
    "userid=wd.find_elements_by_xpath('//*[@id=\"Discussion_2864\"]/div/div[1]/div[1]/span[1]/a[2]')[0]\n",
    "userid = userid.text\n",
    "\n",
    "print(userid)"
   ]
  },
  {
   "cell_type": "markdown",
   "metadata": {
    "id": "YpYTWzr_OL3K"
   },
   "source": [
    "## Scraping"
   ]
  },
  {
   "cell_type": "code",
   "execution_count": null,
   "metadata": {
    "id": "xQ1PogGQMdQF"
   },
   "outputs": [],
   "source": [
    "wd.get('https://forums.edmunds.com/discussion/2864/general/x/entry-level-luxury-performance-sedans/p351')"
   ]
  },
  {
   "cell_type": "code",
   "execution_count": null,
   "metadata": {
    "colab": {
     "base_uri": "https://localhost:8080/"
    },
    "id": "ULB2IgIvLs3v",
    "outputId": "75fa737f-a603-43d1-fbff-ddde6b49027c"
   },
   "outputs": [
    {
     "name": "stdout",
     "output_type": "stream",
     "text": [
      "Michaell said:\n",
      "show previous quotes\n",
      "\n",
      "The most interesting thing about that photo is .... you're listening to Rihanna?\n",
      "\n",
      "I must be getting old.....\n",
      "\n",
      "Or you have better taste in music\n"
     ]
    }
   ],
   "source": [
    "message = wd.find_elements_by_xpath('//*[@id=\"Comment_4178514\"]/div/div[3]/div/div[1]')[0]\n",
    "message = message.text\n",
    "print(message)"
   ]
  },
  {
   "cell_type": "code",
   "execution_count": null,
   "metadata": {
    "colab": {
     "base_uri": "https://localhost:8080/"
    },
    "id": "XFw9-QxfAhko",
    "outputId": "48a766fb-8843-4fac-e817-f42750563eb2"
   },
   "outputs": [
    {
     "name": "stdout",
     "output_type": "stream",
     "text": [
      "Michaell said:\n",
      "show previous quotes\n",
      "\n",
      "The most interesting thing about that photo is .... you're listening to Rihanna?\n",
      "\n",
      "I must be getting old.....\n"
     ]
    }
   ],
   "source": [
    "block_quote = wd.find_elements_by_xpath('//*[@id=\"Comment_4178514\"]/div/div[3]/div/div[1]/blockquote')\n",
    "if len(block_quote) != 0:\n",
    "  block_quote = block_quote[0]\n",
    "  block_quote = block_quote.text\n",
    "  print(block_quote)"
   ]
  },
  {
   "cell_type": "code",
   "execution_count": null,
   "metadata": {
    "colab": {
     "base_uri": "https://localhost:8080/"
    },
    "id": "_XAHPSAPNF2G",
    "outputId": "afb7fa25-87bd-4c8d-a65d-412d6dc1141b"
   },
   "outputs": [
    {
     "name": "stdout",
     "output_type": "stream",
     "text": [
      "Or you have better taste in music\n"
     ]
    }
   ],
   "source": [
    "comment = wd.find_elements_by_xpath('//*[@id=\"Comment_4178514\"]/div/div[3]/div/div[1]')[0]\n",
    "comment = comment.text\n",
    "comment = comment[len(block_quote):]\n",
    "print(comment.strip())"
   ]
  },
  {
   "cell_type": "code",
   "execution_count": null,
   "metadata": {
    "colab": {
     "base_uri": "https://localhost:8080/",
     "height": 112
    },
    "id": "Nrj8sjEID2Dw",
    "outputId": "dc5ecb15-97bd-403a-bb3e-9c4e2699bda6"
   },
   "outputs": [
    {
     "data": {
      "text/html": [
       "<div>\n",
       "<style scoped>\n",
       "    .dataframe tbody tr th:only-of-type {\n",
       "        vertical-align: middle;\n",
       "    }\n",
       "\n",
       "    .dataframe tbody tr th {\n",
       "        vertical-align: top;\n",
       "    }\n",
       "\n",
       "    .dataframe thead th {\n",
       "        text-align: right;\n",
       "    }\n",
       "</style>\n",
       "<table border=\"1\" class=\"dataframe\">\n",
       "  <thead>\n",
       "    <tr style=\"text-align: right;\">\n",
       "      <th></th>\n",
       "      <th>username</th>\n",
       "      <th>date</th>\n",
       "      <th>comment</th>\n",
       "    </tr>\n",
       "    <tr>\n",
       "      <th>ID</th>\n",
       "      <th></th>\n",
       "      <th></th>\n",
       "      <th></th>\n",
       "    </tr>\n",
       "  </thead>\n",
       "  <tbody>\n",
       "    <tr>\n",
       "      <th>0</th>\n",
       "      <td>cybersol</td>\n",
       "      <td>March 23, 2002 12:04PM</td>\n",
       "      <td>\\n\\nOr you have better taste in music</td>\n",
       "    </tr>\n",
       "  </tbody>\n",
       "</table>\n",
       "</div>"
      ],
      "text/plain": [
       "    username                    date                                comment\n",
       "ID                                                                         \n",
       "0   cybersol  March 23, 2002 12:04PM  \\n\\nOr you have better taste in music"
      ]
     },
     "execution_count": 64,
     "metadata": {},
     "output_type": "execute_result"
    }
   ],
   "source": [
    "import pandas as pd\n",
    "df = pd.DataFrame(columns=['username', 'date', 'comment'])\n",
    "df.loc[0, 'username'] = userid\n",
    "df.loc[0, 'date'] = date\n",
    "df.loc[0, 'comment'] = comment\n",
    "\n",
    "df.index.name = \"ID\"\n",
    "df.head()"
   ]
  },
  {
   "cell_type": "code",
   "execution_count": null,
   "metadata": {
    "colab": {
     "base_uri": "https://localhost:8080/"
    },
    "id": "xcK_OeHVH3g5",
    "outputId": "ee5829a1-05b8-4c27-b6e9-766d22dfbf1d"
   },
   "outputs": [
    {
     "name": "stdout",
     "output_type": "stream",
     "text": [
      "Drive already mounted at /content/gdrive; to attempt to forcibly remount, call drive.mount(\"/content/gdrive\", force_remount=True).\n"
     ]
    }
   ],
   "source": [
    "from google.colab import drive\n",
    "drive.mount('/content/gdrive')"
   ]
  },
  {
   "cell_type": "code",
   "execution_count": null,
   "metadata": {
    "colab": {
     "base_uri": "https://localhost:8080/"
    },
    "id": "FWpX39vbH8G9",
    "outputId": "d32cd324-adb1-4d10-d824-7018ea9eab00"
   },
   "outputs": [
    {
     "name": "stdout",
     "output_type": "stream",
     "text": [
      "50\n"
     ]
    }
   ],
   "source": [
    "wd.get('https://forums.edmunds.com/discussion/2864/general/x/entry-level-luxury-performance-sedans')\n",
    "\n",
    "comments = pd.DataFrame(columns = ['Date','user_id','comments']) \n",
    "ids = wd.find_elements_by_xpath(\"//*[contains(@id,'Comment_')]\")\n",
    "\n",
    "comment_ids = []\n",
    "for i in ids:\n",
    "  comment_ids.append(i.get_attribute('id'))\n",
    "\n",
    "for x in comment_ids:\n",
    "    #Extract dates from for each user on a page\n",
    "    user_date = wd.find_elements_by_xpath('//*[@id=\"' + x +'\"]/div/div[2]/div[2]/span[1]/a/time')[0]\n",
    "    date = user_date.get_attribute('title')\n",
    "\n",
    "    #Extract user ids from each user on a page\n",
    "    userid_element = wd.find_elements_by_xpath('//*[@id=\"' + x +'\"]/div/div[2]/div[1]/span[1]/a[2]')[0]\n",
    "    userid = userid_element.text\n",
    "\n",
    "    #Extract Message for each user on a page\n",
    "    user_message = wd.find_elements_by_xpath('//*[@id=\"' + x +'\"]/div/div[3]/div/div[1]')[0]\n",
    "    comment = user_message.text\n",
    "                                   \n",
    "    #Adding date, userid and comment for each user in a dataframe    \n",
    "    comments.loc[len(comments)] = [date,userid,comment]\n",
    "    \n",
    "print(comments.shape[0])"
   ]
  },
  {
   "cell_type": "code",
   "execution_count": null,
   "metadata": {
    "colab": {
     "base_uri": "https://localhost:8080/"
    },
    "id": "ofbhaaalRMJA",
    "outputId": "b09f05a7-c47b-40af-c5fa-e32c405c472c"
   },
   "outputs": [
    {
     "name": "stdout",
     "output_type": "stream",
     "text": [
      "21733\n"
     ]
    }
   ],
   "source": [
    "for page in range(2, 436):\n",
    "  wd.get('https://forums.edmunds.com/discussion/2864/general/x/entry-level-luxury-performance-sedans/p'+str(page))\n",
    "\n",
    "  ids = wd.find_elements_by_xpath(\"//*[contains(@id,'Comment_')]\")\n",
    "\n",
    "  comment_ids = []\n",
    "  for i in ids:\n",
    "    comment_ids.append(i.get_attribute('id'))\n",
    "\n",
    "  for x in comment_ids:\n",
    "      #Extract dates from for each user on a page\n",
    "      user_date = wd.find_elements_by_xpath('//*[@id=\"' + x +'\"]/div/div[2]/div[2]/span[1]/a/time')[0]\n",
    "      date = user_date.get_attribute('title')\n",
    "\n",
    "      #Extract user ids from each user on a page\n",
    "      userid_element = wd.find_elements_by_xpath('//*[@id=\"' + x +'\"]/div/div[2]/div[1]/span[1]/a[2]')[0]\n",
    "      userid = userid_element.text\n",
    "\n",
    "      #Extract block quote\n",
    "      block_quote = wd.find_elements_by_xpath('//*[@id=\"' + x +'\"]/div/div[3]/div/div[1]/blockquote')\n",
    "      if len(block_quote) != 0:\n",
    "        block_quote = block_quote[0]\n",
    "        block_quote = block_quote.text\n",
    "\n",
    "      #Extract Message for each user on a page\n",
    "      user_message = wd.find_elements_by_xpath('//*[@id=\"' + x +'\"]/div/div[3]/div/div[1]')[0]\n",
    "      comment = user_message.text\n",
    "      comment = comment[len(block_quote):].strip()\n",
    "                                    \n",
    "      #Adding date, userid and comment for each user in a dataframe    \n",
    "      comments.loc[len(comments)] = [date,userid,comment]\n",
    "    \n",
    "print(comments.shape[0])"
   ]
  },
  {
   "cell_type": "code",
   "execution_count": null,
   "metadata": {
    "id": "Nv-SZJON_By0"
   },
   "outputs": [],
   "source": [
    "comments.to_csv('check.csv')"
   ]
  },
  {
   "cell_type": "code",
   "execution_count": null,
   "metadata": {
    "id": "5FSIRFYN0R4P"
   },
   "outputs": [],
   "source": [
    "comments.to_csv('data1.csv')\n",
    "!cp data1.csv \"/content/gdrive/MyDrive/unstructured assignment 1\""
   ]
  },
  {
   "cell_type": "code",
   "execution_count": null,
   "metadata": {
    "colab": {
     "base_uri": "https://localhost:8080/"
    },
    "id": "zmlBnmyBSQgg",
    "outputId": "59a7840e-3fad-4b37-e492-1374016f88b2"
   },
   "outputs": [
    {
     "name": "stdout",
     "output_type": "stream",
     "text": [
      "data1.csv  gdrive  results1.csv  results2.csv  sample_data\n"
     ]
    }
   ],
   "source": [
    "comments.to_csv(\"results2.csv\")\n",
    "!ls"
   ]
  }
 ],
 "metadata": {
  "colab": {
   "collapsed_sections": [],
   "name": "Unstructured_Assignment1_scapper.ipynb",
   "provenance": []
  },
  "kernelspec": {
   "display_name": "Python 3",
   "language": "python",
   "name": "python3"
  },
  "language_info": {
   "codemirror_mode": {
    "name": "ipython",
    "version": 3
   },
   "file_extension": ".py",
   "mimetype": "text/x-python",
   "name": "python",
   "nbconvert_exporter": "python",
   "pygments_lexer": "ipython3",
   "version": "3.8.8"
  },
  "varInspector": {
   "cols": {
    "lenName": 16,
    "lenType": 16,
    "lenVar": 40
   },
   "kernels_config": {
    "python": {
     "delete_cmd_postfix": "",
     "delete_cmd_prefix": "del ",
     "library": "var_list.py",
     "varRefreshCmd": "print(var_dic_list())"
    },
    "r": {
     "delete_cmd_postfix": ") ",
     "delete_cmd_prefix": "rm(",
     "library": "var_list.r",
     "varRefreshCmd": "cat(var_dic_list()) "
    }
   },
   "types_to_exclude": [
    "module",
    "function",
    "builtin_function_or_method",
    "instance",
    "_Feature"
   ],
   "window_display": false
  }
 },
 "nbformat": 4,
 "nbformat_minor": 1
}
