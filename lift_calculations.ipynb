{
 "cells": [
  {
   "cell_type": "markdown",
   "metadata": {
    "id": "bIthH2rK7inD"
   },
   "source": [
    "# Lift Calculations Python script\n",
    "\n",
    "Author - Rahul Singla<br>\n",
    "\n",
    "Co-authors - Anant Gupta, Ishan Patel, Vinay Pahwa, Suchit Das\n",
    "\n",
    "Created on Google Colab"
   ]
  },
  {
   "cell_type": "markdown",
   "metadata": {
    "id": "4_vwwUJl8Bbg"
   },
   "source": [
    "# Data Cleanup and Zipf's Law"
   ]
  },
  {
   "cell_type": "code",
   "execution_count": null,
   "metadata": {
    "colab": {
     "base_uri": "https://localhost:8080/"
    },
    "id": "6LxsWietOTs3",
    "outputId": "49fbf43e-fd6a-40f5-e060-f51243e62b79"
   },
   "outputs": [
    {
     "name": "stdout",
     "output_type": "stream",
     "text": [
      "Drive already mounted at /content/gdrive; to attempt to forcibly remount, call drive.mount(\"/content/gdrive\", force_remount=True).\n"
     ]
    }
   ],
   "source": [
    "from google.colab import drive\n",
    "drive.mount('/content/gdrive')"
   ]
  },
  {
   "cell_type": "code",
   "execution_count": null,
   "metadata": {
    "colab": {
     "base_uri": "https://localhost:8080/"
    },
    "id": "P_3PypOmXW3u",
    "outputId": "3c06817a-4b62-46de-81f3-3c2346b63fee"
   },
   "outputs": [
    {
     "name": "stdout",
     "output_type": "stream",
     "text": [
      "[nltk_data] Downloading package stopwords to /root/nltk_data...\n",
      "[nltk_data]   Unzipping corpora/stopwords.zip.\n"
     ]
    }
   ],
   "source": [
    "import pandas as pd\n",
    "from sklearn.feature_extraction.text import CountVectorizer\n",
    "import regex as re\n",
    "import matplotlib.pyplot as plt\n",
    "import numpy as np\n",
    "from sklearn.linear_model import LinearRegression\n",
    "import seaborn as sns\n",
    "import nltk\n",
    "nltk.download('stopwords')\n",
    "from sklearn.manifold import MDS"
   ]
  },
  {
   "cell_type": "code",
   "execution_count": null,
   "metadata": {
    "colab": {
     "base_uri": "https://localhost:8080/",
     "height": 499
    },
    "id": "CnJ9PphLXkOc",
    "outputId": "d3977ffd-b8b3-47f8-d960-0a6df2753769"
   },
   "outputs": [
    {
     "data": {
      "text/html": [
       "<div>\n",
       "<style scoped>\n",
       "    .dataframe tbody tr th:only-of-type {\n",
       "        vertical-align: middle;\n",
       "    }\n",
       "\n",
       "    .dataframe tbody tr th {\n",
       "        vertical-align: top;\n",
       "    }\n",
       "\n",
       "    .dataframe thead th {\n",
       "        text-align: right;\n",
       "    }\n",
       "</style>\n",
       "<table border=\"1\" class=\"dataframe\">\n",
       "  <thead>\n",
       "    <tr style=\"text-align: right;\">\n",
       "      <th></th>\n",
       "      <th>Unnamed: 0</th>\n",
       "      <th>Date</th>\n",
       "      <th>user_id</th>\n",
       "      <th>comments</th>\n",
       "    </tr>\n",
       "  </thead>\n",
       "  <tbody>\n",
       "    <tr>\n",
       "      <th>0</th>\n",
       "      <td>16733</td>\n",
       "      <td>March 18, 2014 6:48PM</td>\n",
       "      <td>sweendogy</td>\n",
       "      <td>Wow these message boards are dormant -</td>\n",
       "    </tr>\n",
       "    <tr>\n",
       "      <th>1</th>\n",
       "      <td>16734</td>\n",
       "      <td>March 18, 2014 8:03PM</td>\n",
       "      <td>Michaell</td>\n",
       "      <td>We're all out driving or test-driving.</td>\n",
       "    </tr>\n",
       "    <tr>\n",
       "      <th>2</th>\n",
       "      <td>16735</td>\n",
       "      <td>March 23, 2014 6:47PM</td>\n",
       "      <td>sweendogy</td>\n",
       "      <td>I guess or format still not taking hold-\\n\\nFo...</td>\n",
       "    </tr>\n",
       "    <tr>\n",
       "      <th>3</th>\n",
       "      <td>16736</td>\n",
       "      <td>March 23, 2014 6:47PM</td>\n",
       "      <td>sweendogy</td>\n",
       "      <td>Pix</td>\n",
       "    </tr>\n",
       "    <tr>\n",
       "      <th>4</th>\n",
       "      <td>16737</td>\n",
       "      <td>March 23, 2014 8:16PM</td>\n",
       "      <td>nyccarguy</td>\n",
       "      <td>@sweendogy\\nI see you hate your state's front ...</td>\n",
       "    </tr>\n",
       "  </tbody>\n",
       "</table>\n",
       "</div>"
      ],
      "text/plain": [
       "   Unnamed: 0  ...                                           comments\n",
       "0       16733  ...             Wow these message boards are dormant -\n",
       "1       16734  ...             We're all out driving or test-driving.\n",
       "2       16735  ...  I guess or format still not taking hold-\\n\\nFo...\n",
       "3       16736  ...                                                Pix\n",
       "4       16737  ...  @sweendogy\\nI see you hate your state's front ...\n",
       "\n",
       "[5 rows x 4 columns]"
      ]
     },
     "execution_count": 5,
     "metadata": {},
     "output_type": "execute_result"
    }
   ],
   "source": [
    "complete_data = pd.read_csv(\"/content/gdrive/MyDrive/unstructured assignment 1/data1.csv\")\n",
    "df = complete_data.copy().iloc[-5000:].reset_index(drop = True)\n",
    "df.head()"
   ]
  },
  {
   "cell_type": "code",
   "execution_count": null,
   "metadata": {
    "id": "-Xm_ZepTTMpq"
   },
   "outputs": [],
   "source": [
    "thread_count = len(df)"
   ]
  },
  {
   "cell_type": "code",
   "execution_count": null,
   "metadata": {
    "id": "_iDJkrHDXntk"
   },
   "outputs": [],
   "source": [
    "def clean_text(string):\n",
    "    if pd.isna(string):\n",
    "        return \"\"\n",
    "    string = string.lower()\n",
    "    string = string.replace(\"\\n\", \" \").replace(\"\\t\", \" \")\n",
    "    string = text_after = re.sub(r'[^\\w]', ' ', string)\n",
    "    return string"
   ]
  },
  {
   "cell_type": "code",
   "execution_count": null,
   "metadata": {
    "id": "pbotayDRXp1C"
   },
   "outputs": [],
   "source": [
    "corpus = \"\"\n",
    "n = len(df)\n",
    "\n",
    "for i in range(n):\n",
    "    corpus = corpus + clean_text(df[\"comments\"].iloc[i])"
   ]
  },
  {
   "cell_type": "code",
   "execution_count": null,
   "metadata": {
    "id": "aJCtXe-oXsMd"
   },
   "outputs": [],
   "source": [
    "vectorizer = CountVectorizer()\n",
    "X = vectorizer.fit_transform([corpus])\n",
    "word_count = pd.Series(X.toarray()[0], index=vectorizer.get_feature_names())"
   ]
  },
  {
   "cell_type": "code",
   "execution_count": null,
   "metadata": {
    "colab": {
     "base_uri": "https://localhost:8080/",
     "height": 421
    },
    "id": "8z23wJ7YXuDv",
    "outputId": "155814d7-2d21-450c-f21b-00d9140808d2"
   },
   "outputs": [
    {
     "data": {
      "text/html": [
       "<div>\n",
       "<style scoped>\n",
       "    .dataframe tbody tr th:only-of-type {\n",
       "        vertical-align: middle;\n",
       "    }\n",
       "\n",
       "    .dataframe tbody tr th {\n",
       "        vertical-align: top;\n",
       "    }\n",
       "\n",
       "    .dataframe thead th {\n",
       "        text-align: right;\n",
       "    }\n",
       "</style>\n",
       "<table border=\"1\" class=\"dataframe\">\n",
       "  <thead>\n",
       "    <tr style=\"text-align: right;\">\n",
       "      <th></th>\n",
       "      <th>rank</th>\n",
       "      <th>word</th>\n",
       "      <th>freq</th>\n",
       "    </tr>\n",
       "  </thead>\n",
       "  <tbody>\n",
       "    <tr>\n",
       "      <th>0</th>\n",
       "      <td>1</td>\n",
       "      <td>the</td>\n",
       "      <td>24002</td>\n",
       "    </tr>\n",
       "    <tr>\n",
       "      <th>1</th>\n",
       "      <td>2</td>\n",
       "      <td>to</td>\n",
       "      <td>10033</td>\n",
       "    </tr>\n",
       "    <tr>\n",
       "      <th>2</th>\n",
       "      <td>3</td>\n",
       "      <td>and</td>\n",
       "      <td>9876</td>\n",
       "    </tr>\n",
       "    <tr>\n",
       "      <th>3</th>\n",
       "      <td>4</td>\n",
       "      <td>of</td>\n",
       "      <td>7369</td>\n",
       "    </tr>\n",
       "    <tr>\n",
       "      <th>4</th>\n",
       "      <td>5</td>\n",
       "      <td>it</td>\n",
       "      <td>6684</td>\n",
       "    </tr>\n",
       "    <tr>\n",
       "      <th>...</th>\n",
       "      <td>...</td>\n",
       "      <td>...</td>\n",
       "      <td>...</td>\n",
       "    </tr>\n",
       "    <tr>\n",
       "      <th>95</th>\n",
       "      <td>96</td>\n",
       "      <td>those</td>\n",
       "      <td>601</td>\n",
       "    </tr>\n",
       "    <tr>\n",
       "      <th>96</th>\n",
       "      <td>97</td>\n",
       "      <td>price</td>\n",
       "      <td>599</td>\n",
       "    </tr>\n",
       "    <tr>\n",
       "      <th>97</th>\n",
       "      <td>98</td>\n",
       "      <td>same</td>\n",
       "      <td>593</td>\n",
       "    </tr>\n",
       "    <tr>\n",
       "      <th>98</th>\n",
       "      <td>99</td>\n",
       "      <td>go</td>\n",
       "      <td>584</td>\n",
       "    </tr>\n",
       "    <tr>\n",
       "      <th>99</th>\n",
       "      <td>100</td>\n",
       "      <td>ve</td>\n",
       "      <td>578</td>\n",
       "    </tr>\n",
       "  </tbody>\n",
       "</table>\n",
       "<p>100 rows × 3 columns</p>\n",
       "</div>"
      ],
      "text/plain": [
       "    rank   word   freq\n",
       "0      1    the  24002\n",
       "1      2     to  10033\n",
       "2      3    and   9876\n",
       "3      4     of   7369\n",
       "4      5     it   6684\n",
       "..   ...    ...    ...\n",
       "95    96  those    601\n",
       "96    97  price    599\n",
       "97    98   same    593\n",
       "98    99     go    584\n",
       "99   100     ve    578\n",
       "\n",
       "[100 rows x 3 columns]"
      ]
     },
     "execution_count": 10,
     "metadata": {},
     "output_type": "execute_result"
    }
   ],
   "source": [
    "ranked_word_count = word_count.sort_values(ascending=False).reset_index().reset_index()\n",
    "ranked_word_count.columns = ['rank', 'word', 'freq']\n",
    "ranked_word_count['rank'] = ranked_word_count['rank'] + 1\n",
    "ranked_word_count = ranked_word_count.copy().iloc[:100]\n",
    "ranked_word_count"
   ]
  },
  {
   "cell_type": "code",
   "execution_count": null,
   "metadata": {
    "id": "T8CCCl6GZHiO"
   },
   "outputs": [],
   "source": [
    "ranked_word_count['rank_log'] = np.log10(ranked_word_count['rank'])\n",
    "ranked_word_count['freq_log'] = np.log10(ranked_word_count['freq'])\n",
    "ranked_word_count['dummy'] = 0 #dummy col added for sklearn"
   ]
  },
  {
   "cell_type": "code",
   "execution_count": null,
   "metadata": {
    "colab": {
     "base_uri": "https://localhost:8080/"
    },
    "id": "YtOApCOeYI4a",
    "outputId": "d31a7215-1b81-43d4-c24b-72a255ef6499"
   },
   "outputs": [
    {
     "data": {
      "text/plain": [
       "0.987781733076035"
      ]
     },
     "execution_count": 12,
     "metadata": {},
     "output_type": "execute_result"
    }
   ],
   "source": [
    "lr = LinearRegression()\n",
    "lr.fit(ranked_word_count[['rank_log', 'dummy']], ranked_word_count['freq_log'])\n",
    "lr.score(ranked_word_count[['rank_log', 'dummy']], \n",
    "         ranked_word_count['freq_log'])"
   ]
  },
  {
   "cell_type": "code",
   "execution_count": null,
   "metadata": {
    "colab": {
     "base_uri": "https://localhost:8080/",
     "height": 236
    },
    "id": "hzdv-J1rXwHL",
    "outputId": "a170cbd0-65cb-441c-e30e-8cd2788702ba"
   },
   "outputs": [
    {
     "data": {
      "image/png": "[encoded data removed]",
      "text/plain": [
       "<Figure size 432x288 with 1 Axes>"
      ]
     },
     "metadata": {
      "needs_background": "light"
     },
     "output_type": "display_data"
    }
   ],
   "source": [
    "plt.scatter(ranked_word_count['rank_log'],\n",
    "            ranked_word_count['freq_log'],\n",
    "            color = 'blue',\n",
    "            label = \"Freq obs\")\n",
    "plt.plot([0, 2],[4.35, 2.75], color = \"red\", label = \"Freq acc to Zipf's law\")\n",
    "plt.xlabel(\"log10(rank)\")\n",
    "plt.ylabel(\"log10(freq)\")\n",
    "plt.legend()\n",
    "plt.show()"
   ]
  },
  {
   "cell_type": "markdown",
   "metadata": {
    "id": "Wt7PQWYVnFqz"
   },
   "source": [
    "# Finding most popular car models"
   ]
  },
  {
   "cell_type": "code",
   "execution_count": null,
   "metadata": {
    "colab": {
     "base_uri": "https://localhost:8080/",
     "height": 421
    },
    "id": "QEF6dpzypybE",
    "outputId": "79f3eab4-3964-42ce-f60e-89ece6413f19"
   },
   "outputs": [
    {
     "data": {
      "text/html": [
       "<div>\n",
       "<style scoped>\n",
       "    .dataframe tbody tr th:only-of-type {\n",
       "        vertical-align: middle;\n",
       "    }\n",
       "\n",
       "    .dataframe tbody tr th {\n",
       "        vertical-align: top;\n",
       "    }\n",
       "\n",
       "    .dataframe thead th {\n",
       "        text-align: right;\n",
       "    }\n",
       "</style>\n",
       "<table border=\"1\" class=\"dataframe\">\n",
       "  <thead>\n",
       "    <tr style=\"text-align: right;\">\n",
       "      <th></th>\n",
       "      <th>Brand</th>\n",
       "      <th>Model</th>\n",
       "    </tr>\n",
       "  </thead>\n",
       "  <tbody>\n",
       "    <tr>\n",
       "      <th>0</th>\n",
       "      <td>acura</td>\n",
       "      <td>integra</td>\n",
       "    </tr>\n",
       "    <tr>\n",
       "      <th>1</th>\n",
       "      <td>acura</td>\n",
       "      <td>legend</td>\n",
       "    </tr>\n",
       "    <tr>\n",
       "      <th>2</th>\n",
       "      <td>acura</td>\n",
       "      <td>vigor</td>\n",
       "    </tr>\n",
       "    <tr>\n",
       "      <th>3</th>\n",
       "      <td>acura</td>\n",
       "      <td>rlx</td>\n",
       "    </tr>\n",
       "    <tr>\n",
       "      <th>4</th>\n",
       "      <td>acura</td>\n",
       "      <td>ilx</td>\n",
       "    </tr>\n",
       "    <tr>\n",
       "      <th>...</th>\n",
       "      <td>...</td>\n",
       "      <td>...</td>\n",
       "    </tr>\n",
       "    <tr>\n",
       "      <th>555</th>\n",
       "      <td>honda</td>\n",
       "      <td>s2000</td>\n",
       "    </tr>\n",
       "    <tr>\n",
       "      <th>556</th>\n",
       "      <td>toyota</td>\n",
       "      <td>extoyota</td>\n",
       "    </tr>\n",
       "    <tr>\n",
       "      <th>557</th>\n",
       "      <td>acura</td>\n",
       "      <td>tls</td>\n",
       "    </tr>\n",
       "    <tr>\n",
       "      <th>558</th>\n",
       "      <td>bmw</td>\n",
       "      <td>550i</td>\n",
       "    </tr>\n",
       "    <tr>\n",
       "      <th>559</th>\n",
       "      <td>toyota</td>\n",
       "      <td>dtoyotaance</td>\n",
       "    </tr>\n",
       "  </tbody>\n",
       "</table>\n",
       "<p>560 rows × 2 columns</p>\n",
       "</div>"
      ],
      "text/plain": [
       "      Brand        Model\n",
       "0     acura      integra\n",
       "1     acura       legend\n",
       "2     acura        vigor\n",
       "3     acura          rlx\n",
       "4     acura          ilx\n",
       "..      ...          ...\n",
       "555   honda        s2000\n",
       "556  toyota     extoyota\n",
       "557   acura          tls\n",
       "558     bmw         550i\n",
       "559  toyota  dtoyotaance\n",
       "\n",
       "[560 rows x 2 columns]"
      ]
     },
     "execution_count": 14,
     "metadata": {},
     "output_type": "execute_result"
    }
   ],
   "source": [
    "\n",
    "# please note the csv was modified. Some 30 odd entries were added for better cleaning\n",
    "car_models = pd.read_csv('/content/gdrive/MyDrive/unstructured assignment 1/car models and brands.csv')\n",
    "car_models"
   ]
  },
  {
   "cell_type": "code",
   "execution_count": null,
   "metadata": {
    "id": "ShfupWgAp8d4"
   },
   "outputs": [],
   "source": [
    "#let's replace models with brand so that we can have better understanding of brand popularity\n",
    "for brand, model in zip(car_models['Brand'], car_models['Model']):\n",
    "  corpus = corpus.replace(model, brand)"
   ]
  },
  {
   "cell_type": "code",
   "execution_count": null,
   "metadata": {
    "id": "6VK6x-ejnUXD"
   },
   "outputs": [],
   "source": [
    "vectorizer = CountVectorizer(stop_words=nltk.corpus.stopwords.words('english'),)\n",
    "X = vectorizer.fit_transform([corpus])\n",
    "word_count = pd.Series(X.toarray()[0], index=vectorizer.get_feature_names())\n",
    "ranked_word_count = word_count.sort_values(ascending=False).reset_index().reset_index()\n",
    "ranked_word_count.columns = ['rank', 'word', 'freq']\n",
    "ranked_word_count['rank'] = ranked_word_count['rank'] + 1\n",
    "ranked_word_count.to_csv('/content/gdrive/MyDrive/unstructured assignment 1/word_freq.csv')"
   ]
  },
  {
   "cell_type": "markdown",
   "metadata": {
    "id": "20avX3u_y1Xj"
   },
   "source": [
    "Top 10 car models - BMW, Accura, Audi, Toyota, Honda, Subrau, Volkswagen, Chrysler, Cadillac, Hyundai "
   ]
  },
  {
   "cell_type": "markdown",
   "metadata": {
    "id": "gBfXel6SNeuo"
   },
   "source": [
    "# Lift Calculations"
   ]
  },
  {
   "cell_type": "code",
   "execution_count": null,
   "metadata": {
    "id": "HuRK_rTWNcUX"
   },
   "outputs": [],
   "source": [
    "def clean_text_brands(string):\n",
    "    if pd.isna(string):\n",
    "        return \"\"\n",
    "    string = string.lower()\n",
    "    string = string.replace(\"\\n\", \" \").replace(\"\\t\", \" \")\n",
    "    string = text_after = re.sub(r'[^\\w]', ' ', string)\n",
    "    for brand, model in zip(car_models['Brand'], car_models['Model']):\n",
    "      string = string.replace(model, brand)\n",
    "\n",
    "    return string\n",
    "\n",
    "df['cleaned_comments'] = df['comments'].apply(clean_text_brands)"
   ]
  },
  {
   "cell_type": "code",
   "execution_count": null,
   "metadata": {
    "id": "lr84gNBkOG6u"
   },
   "outputs": [],
   "source": [
    "mentions = pd.DataFrame()\n",
    "\n",
    "top_brands = ['bmw', 'acura', 'audi', 'toyota', 'honda', 'chrysler', \n",
    "              'subaru', 'volkswagen', 'cadillac', 'hyundai']\n",
    "\n",
    "for brand in top_brands:\n",
    "  mentions[brand] = df['cleaned_comments'].apply(lambda s: 1 if brand in s else 0)"
   ]
  },
  {
   "cell_type": "code",
   "execution_count": null,
   "metadata": {
    "colab": {
     "base_uri": "https://localhost:8080/"
    },
    "id": "vZ7MHB1oPpL0",
    "outputId": "8a2aaee5-3f50-496b-9858-fcbaede5174c"
   },
   "outputs": [
    {
     "data": {
      "text/plain": [
       "bmw           1114\n",
       "acura         1350\n",
       "audi          1170\n",
       "toyota        1187\n",
       "honda          602\n",
       "chrysler       418\n",
       "subaru        1288\n",
       "volkswagen     277\n",
       "cadillac       227\n",
       "hyundai        206\n",
       "dtype: int64"
      ]
     },
     "execution_count": 19,
     "metadata": {},
     "output_type": "execute_result"
    }
   ],
   "source": [
    "total_mentions = mentions.sum()\n",
    "total_mentions"
   ]
  },
  {
   "cell_type": "code",
   "execution_count": null,
   "metadata": {
    "colab": {
     "base_uri": "https://localhost:8080/",
     "height": 380
    },
    "id": "ETWZsns7P7TD",
    "outputId": "6a9a185a-72fa-470c-c73b-fca15d906402"
   },
   "outputs": [
    {
     "data": {
      "text/html": [
       "<div>\n",
       "<style scoped>\n",
       "    .dataframe tbody tr th:only-of-type {\n",
       "        vertical-align: middle;\n",
       "    }\n",
       "\n",
       "    .dataframe tbody tr th {\n",
       "        vertical-align: top;\n",
       "    }\n",
       "\n",
       "    .dataframe thead th {\n",
       "        text-align: right;\n",
       "    }\n",
       "</style>\n",
       "<table border=\"1\" class=\"dataframe\">\n",
       "  <thead>\n",
       "    <tr style=\"text-align: right;\">\n",
       "      <th></th>\n",
       "      <th>bmw</th>\n",
       "      <th>acura</th>\n",
       "      <th>audi</th>\n",
       "      <th>toyota</th>\n",
       "      <th>honda</th>\n",
       "      <th>chrysler</th>\n",
       "      <th>subaru</th>\n",
       "      <th>volkswagen</th>\n",
       "      <th>cadillac</th>\n",
       "      <th>hyundai</th>\n",
       "    </tr>\n",
       "  </thead>\n",
       "  <tbody>\n",
       "    <tr>\n",
       "      <th>bmw</th>\n",
       "      <td>1114</td>\n",
       "      <td>428</td>\n",
       "      <td>426</td>\n",
       "      <td>394</td>\n",
       "      <td>197</td>\n",
       "      <td>102</td>\n",
       "      <td>415</td>\n",
       "      <td>76</td>\n",
       "      <td>99</td>\n",
       "      <td>67</td>\n",
       "    </tr>\n",
       "    <tr>\n",
       "      <th>acura</th>\n",
       "      <td>428</td>\n",
       "      <td>1350</td>\n",
       "      <td>540</td>\n",
       "      <td>558</td>\n",
       "      <td>352</td>\n",
       "      <td>284</td>\n",
       "      <td>555</td>\n",
       "      <td>113</td>\n",
       "      <td>116</td>\n",
       "      <td>87</td>\n",
       "    </tr>\n",
       "    <tr>\n",
       "      <th>audi</th>\n",
       "      <td>426</td>\n",
       "      <td>540</td>\n",
       "      <td>1170</td>\n",
       "      <td>470</td>\n",
       "      <td>250</td>\n",
       "      <td>151</td>\n",
       "      <td>484</td>\n",
       "      <td>141</td>\n",
       "      <td>118</td>\n",
       "      <td>72</td>\n",
       "    </tr>\n",
       "    <tr>\n",
       "      <th>toyota</th>\n",
       "      <td>394</td>\n",
       "      <td>558</td>\n",
       "      <td>470</td>\n",
       "      <td>1187</td>\n",
       "      <td>279</td>\n",
       "      <td>146</td>\n",
       "      <td>481</td>\n",
       "      <td>111</td>\n",
       "      <td>108</td>\n",
       "      <td>85</td>\n",
       "    </tr>\n",
       "    <tr>\n",
       "      <th>honda</th>\n",
       "      <td>197</td>\n",
       "      <td>352</td>\n",
       "      <td>250</td>\n",
       "      <td>279</td>\n",
       "      <td>602</td>\n",
       "      <td>144</td>\n",
       "      <td>277</td>\n",
       "      <td>62</td>\n",
       "      <td>49</td>\n",
       "      <td>53</td>\n",
       "    </tr>\n",
       "    <tr>\n",
       "      <th>chrysler</th>\n",
       "      <td>102</td>\n",
       "      <td>284</td>\n",
       "      <td>151</td>\n",
       "      <td>146</td>\n",
       "      <td>144</td>\n",
       "      <td>418</td>\n",
       "      <td>167</td>\n",
       "      <td>22</td>\n",
       "      <td>43</td>\n",
       "      <td>27</td>\n",
       "    </tr>\n",
       "    <tr>\n",
       "      <th>subaru</th>\n",
       "      <td>415</td>\n",
       "      <td>555</td>\n",
       "      <td>484</td>\n",
       "      <td>481</td>\n",
       "      <td>277</td>\n",
       "      <td>167</td>\n",
       "      <td>1288</td>\n",
       "      <td>111</td>\n",
       "      <td>92</td>\n",
       "      <td>94</td>\n",
       "    </tr>\n",
       "    <tr>\n",
       "      <th>volkswagen</th>\n",
       "      <td>76</td>\n",
       "      <td>113</td>\n",
       "      <td>141</td>\n",
       "      <td>111</td>\n",
       "      <td>62</td>\n",
       "      <td>22</td>\n",
       "      <td>111</td>\n",
       "      <td>277</td>\n",
       "      <td>17</td>\n",
       "      <td>22</td>\n",
       "    </tr>\n",
       "    <tr>\n",
       "      <th>cadillac</th>\n",
       "      <td>99</td>\n",
       "      <td>116</td>\n",
       "      <td>118</td>\n",
       "      <td>108</td>\n",
       "      <td>49</td>\n",
       "      <td>43</td>\n",
       "      <td>92</td>\n",
       "      <td>17</td>\n",
       "      <td>227</td>\n",
       "      <td>20</td>\n",
       "    </tr>\n",
       "    <tr>\n",
       "      <th>hyundai</th>\n",
       "      <td>67</td>\n",
       "      <td>87</td>\n",
       "      <td>72</td>\n",
       "      <td>85</td>\n",
       "      <td>53</td>\n",
       "      <td>27</td>\n",
       "      <td>94</td>\n",
       "      <td>22</td>\n",
       "      <td>20</td>\n",
       "      <td>206</td>\n",
       "    </tr>\n",
       "  </tbody>\n",
       "</table>\n",
       "</div>"
      ],
      "text/plain": [
       "             bmw acura  audi toyota  ... subaru volkswagen cadillac hyundai\n",
       "bmw         1114   428   426    394  ...    415         76       99      67\n",
       "acura        428  1350   540    558  ...    555        113      116      87\n",
       "audi         426   540  1170    470  ...    484        141      118      72\n",
       "toyota       394   558   470   1187  ...    481        111      108      85\n",
       "honda        197   352   250    279  ...    277         62       49      53\n",
       "chrysler     102   284   151    146  ...    167         22       43      27\n",
       "subaru       415   555   484    481  ...   1288        111       92      94\n",
       "volkswagen    76   113   141    111  ...    111        277       17      22\n",
       "cadillac      99   116   118    108  ...     92         17      227      20\n",
       "hyundai       67    87    72     85  ...     94         22       20     206\n",
       "\n",
       "[10 rows x 10 columns]"
      ]
     },
     "execution_count": 20,
     "metadata": {},
     "output_type": "execute_result"
    }
   ],
   "source": [
    "co_mentions = pd.DataFrame(index = top_brands, columns=top_brands)\n",
    "\n",
    "for brand1 in top_brands:\n",
    "  for brand2 in top_brands:\n",
    "    co_mentions[brand1][brand2] = pd.crosstab(mentions[brand1], mentions[brand2])[1][1]\n",
    "co_mentions"
   ]
  },
  {
   "cell_type": "code",
   "execution_count": null,
   "metadata": {
    "colab": {
     "base_uri": "https://localhost:8080/",
     "height": 380
    },
    "id": "4QwXEbJFT9Qf",
    "outputId": "d70311ca-9e55-4cc5-e2b4-c65fecd8a5ee"
   },
   "outputs": [
    {
     "data": {
      "text/html": [
       "<div>\n",
       "<style scoped>\n",
       "    .dataframe tbody tr th:only-of-type {\n",
       "        vertical-align: middle;\n",
       "    }\n",
       "\n",
       "    .dataframe tbody tr th {\n",
       "        vertical-align: top;\n",
       "    }\n",
       "\n",
       "    .dataframe thead th {\n",
       "        text-align: right;\n",
       "    }\n",
       "</style>\n",
       "<table border=\"1\" class=\"dataframe\">\n",
       "  <thead>\n",
       "    <tr style=\"text-align: right;\">\n",
       "      <th></th>\n",
       "      <th>bmw</th>\n",
       "      <th>acura</th>\n",
       "      <th>audi</th>\n",
       "      <th>toyota</th>\n",
       "      <th>honda</th>\n",
       "      <th>chrysler</th>\n",
       "      <th>subaru</th>\n",
       "      <th>volkswagen</th>\n",
       "      <th>cadillac</th>\n",
       "      <th>hyundai</th>\n",
       "    </tr>\n",
       "  </thead>\n",
       "  <tbody>\n",
       "    <tr>\n",
       "      <th>bmw</th>\n",
       "      <td>0.2228</td>\n",
       "      <td>0.0856</td>\n",
       "      <td>0.0852</td>\n",
       "      <td>0.0788</td>\n",
       "      <td>0.0394</td>\n",
       "      <td>0.0204</td>\n",
       "      <td>0.083</td>\n",
       "      <td>0.0152</td>\n",
       "      <td>0.0198</td>\n",
       "      <td>0.0134</td>\n",
       "    </tr>\n",
       "    <tr>\n",
       "      <th>acura</th>\n",
       "      <td>0.0856</td>\n",
       "      <td>0.27</td>\n",
       "      <td>0.108</td>\n",
       "      <td>0.1116</td>\n",
       "      <td>0.0704</td>\n",
       "      <td>0.0568</td>\n",
       "      <td>0.111</td>\n",
       "      <td>0.0226</td>\n",
       "      <td>0.0232</td>\n",
       "      <td>0.0174</td>\n",
       "    </tr>\n",
       "    <tr>\n",
       "      <th>audi</th>\n",
       "      <td>0.0852</td>\n",
       "      <td>0.108</td>\n",
       "      <td>0.234</td>\n",
       "      <td>0.094</td>\n",
       "      <td>0.05</td>\n",
       "      <td>0.0302</td>\n",
       "      <td>0.0968</td>\n",
       "      <td>0.0282</td>\n",
       "      <td>0.0236</td>\n",
       "      <td>0.0144</td>\n",
       "    </tr>\n",
       "    <tr>\n",
       "      <th>toyota</th>\n",
       "      <td>0.0788</td>\n",
       "      <td>0.1116</td>\n",
       "      <td>0.094</td>\n",
       "      <td>0.2374</td>\n",
       "      <td>0.0558</td>\n",
       "      <td>0.0292</td>\n",
       "      <td>0.0962</td>\n",
       "      <td>0.0222</td>\n",
       "      <td>0.0216</td>\n",
       "      <td>0.017</td>\n",
       "    </tr>\n",
       "    <tr>\n",
       "      <th>honda</th>\n",
       "      <td>0.0394</td>\n",
       "      <td>0.0704</td>\n",
       "      <td>0.05</td>\n",
       "      <td>0.0558</td>\n",
       "      <td>0.1204</td>\n",
       "      <td>0.0288</td>\n",
       "      <td>0.0554</td>\n",
       "      <td>0.0124</td>\n",
       "      <td>0.0098</td>\n",
       "      <td>0.0106</td>\n",
       "    </tr>\n",
       "    <tr>\n",
       "      <th>chrysler</th>\n",
       "      <td>0.0204</td>\n",
       "      <td>0.0568</td>\n",
       "      <td>0.0302</td>\n",
       "      <td>0.0292</td>\n",
       "      <td>0.0288</td>\n",
       "      <td>0.0836</td>\n",
       "      <td>0.0334</td>\n",
       "      <td>0.0044</td>\n",
       "      <td>0.0086</td>\n",
       "      <td>0.0054</td>\n",
       "    </tr>\n",
       "    <tr>\n",
       "      <th>subaru</th>\n",
       "      <td>0.083</td>\n",
       "      <td>0.111</td>\n",
       "      <td>0.0968</td>\n",
       "      <td>0.0962</td>\n",
       "      <td>0.0554</td>\n",
       "      <td>0.0334</td>\n",
       "      <td>0.2576</td>\n",
       "      <td>0.0222</td>\n",
       "      <td>0.0184</td>\n",
       "      <td>0.0188</td>\n",
       "    </tr>\n",
       "    <tr>\n",
       "      <th>volkswagen</th>\n",
       "      <td>0.0152</td>\n",
       "      <td>0.0226</td>\n",
       "      <td>0.0282</td>\n",
       "      <td>0.0222</td>\n",
       "      <td>0.0124</td>\n",
       "      <td>0.0044</td>\n",
       "      <td>0.0222</td>\n",
       "      <td>0.0554</td>\n",
       "      <td>0.0034</td>\n",
       "      <td>0.0044</td>\n",
       "    </tr>\n",
       "    <tr>\n",
       "      <th>cadillac</th>\n",
       "      <td>0.0198</td>\n",
       "      <td>0.0232</td>\n",
       "      <td>0.0236</td>\n",
       "      <td>0.0216</td>\n",
       "      <td>0.0098</td>\n",
       "      <td>0.0086</td>\n",
       "      <td>0.0184</td>\n",
       "      <td>0.0034</td>\n",
       "      <td>0.0454</td>\n",
       "      <td>0.004</td>\n",
       "    </tr>\n",
       "    <tr>\n",
       "      <th>hyundai</th>\n",
       "      <td>0.0134</td>\n",
       "      <td>0.0174</td>\n",
       "      <td>0.0144</td>\n",
       "      <td>0.017</td>\n",
       "      <td>0.0106</td>\n",
       "      <td>0.0054</td>\n",
       "      <td>0.0188</td>\n",
       "      <td>0.0044</td>\n",
       "      <td>0.004</td>\n",
       "      <td>0.0412</td>\n",
       "    </tr>\n",
       "  </tbody>\n",
       "</table>\n",
       "</div>"
      ],
      "text/plain": [
       "               bmw   acura    audi  toyota  ...  subaru volkswagen cadillac hyundai\n",
       "bmw         0.2228  0.0856  0.0852  0.0788  ...   0.083     0.0152   0.0198  0.0134\n",
       "acura       0.0856    0.27   0.108  0.1116  ...   0.111     0.0226   0.0232  0.0174\n",
       "audi        0.0852   0.108   0.234   0.094  ...  0.0968     0.0282   0.0236  0.0144\n",
       "toyota      0.0788  0.1116   0.094  0.2374  ...  0.0962     0.0222   0.0216   0.017\n",
       "honda       0.0394  0.0704    0.05  0.0558  ...  0.0554     0.0124   0.0098  0.0106\n",
       "chrysler    0.0204  0.0568  0.0302  0.0292  ...  0.0334     0.0044   0.0086  0.0054\n",
       "subaru       0.083   0.111  0.0968  0.0962  ...  0.2576     0.0222   0.0184  0.0188\n",
       "volkswagen  0.0152  0.0226  0.0282  0.0222  ...  0.0222     0.0554   0.0034  0.0044\n",
       "cadillac    0.0198  0.0232  0.0236  0.0216  ...  0.0184     0.0034   0.0454   0.004\n",
       "hyundai     0.0134  0.0174  0.0144   0.017  ...  0.0188     0.0044    0.004  0.0412\n",
       "\n",
       "[10 rows x 10 columns]"
      ]
     },
     "execution_count": 21,
     "metadata": {},
     "output_type": "execute_result"
    }
   ],
   "source": [
    "joint_support = co_mentions / thread_count\n",
    "joint_support"
   ]
  },
  {
   "cell_type": "code",
   "execution_count": null,
   "metadata": {
    "colab": {
     "base_uri": "https://localhost:8080/"
    },
    "id": "to6yNhlTUIDd",
    "outputId": "07be0229-4f24-4bed-ffc6-8287ce583044"
   },
   "outputs": [
    {
     "data": {
      "text/plain": [
       "bmw           0.2228\n",
       "acura         0.2700\n",
       "audi          0.2340\n",
       "toyota        0.2374\n",
       "honda         0.1204\n",
       "chrysler      0.0836\n",
       "subaru        0.2576\n",
       "volkswagen    0.0554\n",
       "cadillac      0.0454\n",
       "hyundai       0.0412\n",
       "dtype: float64"
      ]
     },
     "execution_count": 22,
     "metadata": {},
     "output_type": "execute_result"
    }
   ],
   "source": [
    "support = total_mentions / thread_count\n",
    "support"
   ]
  },
  {
   "cell_type": "code",
   "execution_count": null,
   "metadata": {
    "colab": {
     "base_uri": "https://localhost:8080/",
     "height": 380
    },
    "id": "-Yj-ijQRUN7r",
    "outputId": "ddc9492c-7e3a-4b65-8781-92806d74b5a0"
   },
   "outputs": [
    {
     "data": {
      "text/html": [
       "<div>\n",
       "<style scoped>\n",
       "    .dataframe tbody tr th:only-of-type {\n",
       "        vertical-align: middle;\n",
       "    }\n",
       "\n",
       "    .dataframe tbody tr th {\n",
       "        vertical-align: top;\n",
       "    }\n",
       "\n",
       "    .dataframe thead th {\n",
       "        text-align: right;\n",
       "    }\n",
       "</style>\n",
       "<table border=\"1\" class=\"dataframe\">\n",
       "  <thead>\n",
       "    <tr style=\"text-align: right;\">\n",
       "      <th></th>\n",
       "      <th>bmw</th>\n",
       "      <th>acura</th>\n",
       "      <th>audi</th>\n",
       "      <th>toyota</th>\n",
       "      <th>honda</th>\n",
       "      <th>chrysler</th>\n",
       "      <th>subaru</th>\n",
       "      <th>volkswagen</th>\n",
       "      <th>cadillac</th>\n",
       "      <th>hyundai</th>\n",
       "    </tr>\n",
       "  </thead>\n",
       "  <tbody>\n",
       "    <tr>\n",
       "      <th>bmw</th>\n",
       "      <td></td>\n",
       "      <td>1.42297</td>\n",
       "      <td>1.63421</td>\n",
       "      <td>1.48981</td>\n",
       "      <td>1.46877</td>\n",
       "      <td>1.09524</td>\n",
       "      <td>1.44616</td>\n",
       "      <td>1.23146</td>\n",
       "      <td>1.95747</td>\n",
       "      <td>1.4598</td>\n",
       "    </tr>\n",
       "    <tr>\n",
       "      <th>acura</th>\n",
       "      <td></td>\n",
       "      <td></td>\n",
       "      <td>1.7094</td>\n",
       "      <td>1.74108</td>\n",
       "      <td>2.16562</td>\n",
       "      <td>2.51639</td>\n",
       "      <td>1.59593</td>\n",
       "      <td>1.5109</td>\n",
       "      <td>1.89264</td>\n",
       "      <td>1.56419</td>\n",
       "    </tr>\n",
       "    <tr>\n",
       "      <th>audi</th>\n",
       "      <td></td>\n",
       "      <td></td>\n",
       "      <td></td>\n",
       "      <td>1.69212</td>\n",
       "      <td>1.77471</td>\n",
       "      <td>1.54378</td>\n",
       "      <td>1.60588</td>\n",
       "      <td>2.17532</td>\n",
       "      <td>2.22147</td>\n",
       "      <td>1.49365</td>\n",
       "    </tr>\n",
       "    <tr>\n",
       "      <th>toyota</th>\n",
       "      <td></td>\n",
       "      <td></td>\n",
       "      <td></td>\n",
       "      <td></td>\n",
       "      <td>1.95221</td>\n",
       "      <td>1.47128</td>\n",
       "      <td>1.57307</td>\n",
       "      <td>1.68796</td>\n",
       "      <td>2.00409</td>\n",
       "      <td>1.73808</td>\n",
       "    </tr>\n",
       "    <tr>\n",
       "      <th>honda</th>\n",
       "      <td></td>\n",
       "      <td></td>\n",
       "      <td></td>\n",
       "      <td></td>\n",
       "      <td></td>\n",
       "      <td>2.86128</td>\n",
       "      <td>1.78623</td>\n",
       "      <td>1.85903</td>\n",
       "      <td>1.79285</td>\n",
       "      <td>2.13689</td>\n",
       "    </tr>\n",
       "    <tr>\n",
       "      <th>chrysler</th>\n",
       "      <td></td>\n",
       "      <td></td>\n",
       "      <td></td>\n",
       "      <td></td>\n",
       "      <td></td>\n",
       "      <td></td>\n",
       "      <td>1.55094</td>\n",
       "      <td>0.950029</td>\n",
       "      <td>2.26588</td>\n",
       "      <td>1.5678</td>\n",
       "    </tr>\n",
       "    <tr>\n",
       "      <th>subaru</th>\n",
       "      <td></td>\n",
       "      <td></td>\n",
       "      <td></td>\n",
       "      <td></td>\n",
       "      <td></td>\n",
       "      <td></td>\n",
       "      <td></td>\n",
       "      <td>1.5556</td>\n",
       "      <td>1.57332</td>\n",
       "      <td>1.77139</td>\n",
       "    </tr>\n",
       "    <tr>\n",
       "      <th>volkswagen</th>\n",
       "      <td></td>\n",
       "      <td></td>\n",
       "      <td></td>\n",
       "      <td></td>\n",
       "      <td></td>\n",
       "      <td></td>\n",
       "      <td></td>\n",
       "      <td></td>\n",
       "      <td>1.3518</td>\n",
       "      <td>1.92773</td>\n",
       "    </tr>\n",
       "    <tr>\n",
       "      <th>cadillac</th>\n",
       "      <td></td>\n",
       "      <td></td>\n",
       "      <td></td>\n",
       "      <td></td>\n",
       "      <td></td>\n",
       "      <td></td>\n",
       "      <td></td>\n",
       "      <td></td>\n",
       "      <td></td>\n",
       "      <td>2.13849</td>\n",
       "    </tr>\n",
       "    <tr>\n",
       "      <th>hyundai</th>\n",
       "      <td></td>\n",
       "      <td></td>\n",
       "      <td></td>\n",
       "      <td></td>\n",
       "      <td></td>\n",
       "      <td></td>\n",
       "      <td></td>\n",
       "      <td></td>\n",
       "      <td></td>\n",
       "      <td></td>\n",
       "    </tr>\n",
       "  </tbody>\n",
       "</table>\n",
       "</div>"
      ],
      "text/plain": [
       "           bmw    acura     audi   toyota  ...   subaru volkswagen cadillac  hyundai\n",
       "bmw             1.42297  1.63421  1.48981  ...  1.44616    1.23146  1.95747   1.4598\n",
       "acura                     1.7094  1.74108  ...  1.59593     1.5109  1.89264  1.56419\n",
       "audi                              1.69212  ...  1.60588    2.17532  2.22147  1.49365\n",
       "toyota                                     ...  1.57307    1.68796  2.00409  1.73808\n",
       "honda                                      ...  1.78623    1.85903  1.79285  2.13689\n",
       "chrysler                                   ...  1.55094   0.950029  2.26588   1.5678\n",
       "subaru                                     ...              1.5556  1.57332  1.77139\n",
       "volkswagen                                 ...                       1.3518  1.92773\n",
       "cadillac                                   ...                               2.13849\n",
       "hyundai                                    ...                                      \n",
       "\n",
       "[10 rows x 10 columns]"
      ]
     },
     "execution_count": 23,
     "metadata": {},
     "output_type": "execute_result"
    }
   ],
   "source": [
    "lift = pd.DataFrame(index = top_brands, columns=top_brands)\n",
    "\n",
    "for brand1 in top_brands:\n",
    "  for brand2 in top_brands:\n",
    "    if brand1 == brand2:\n",
    "      lift[brand1][brand2] = np.nan\n",
    "      continue\n",
    "    lift[brand1][brand2] = joint_support[brand1][brand2] / (support[brand1] * support[brand2])\n",
    "lift_new = np.triu(lift)\n",
    "lift_df = pd.DataFrame(lift_new,columns=top_brands,index=top_brands)\n",
    "lift_df = lift_df.fillna(0)\n",
    "lift_df = lift_df.replace(0,\"\")\n",
    "lift_df"
   ]
  },
  {
   "cell_type": "markdown",
   "metadata": {
    "id": "Y_XwHqeb8TE4"
   },
   "source": [
    "# MDS Graph - visualizing closeness among brands"
   ]
  },
  {
   "cell_type": "code",
   "execution_count": null,
   "metadata": {
    "colab": {
     "base_uri": "https://localhost:8080/",
     "height": 380
    },
    "id": "233zmmd7Vuz2",
    "outputId": "948706ae-c03d-4e4f-8d0d-47bbd3074ef4"
   },
   "outputs": [
    {
     "data": {
      "text/html": [
       "<div>\n",
       "<style scoped>\n",
       "    .dataframe tbody tr th:only-of-type {\n",
       "        vertical-align: middle;\n",
       "    }\n",
       "\n",
       "    .dataframe tbody tr th {\n",
       "        vertical-align: top;\n",
       "    }\n",
       "\n",
       "    .dataframe thead th {\n",
       "        text-align: right;\n",
       "    }\n",
       "</style>\n",
       "<table border=\"1\" class=\"dataframe\">\n",
       "  <thead>\n",
       "    <tr style=\"text-align: right;\">\n",
       "      <th></th>\n",
       "      <th>bmw</th>\n",
       "      <th>acura</th>\n",
       "      <th>audi</th>\n",
       "      <th>toyota</th>\n",
       "      <th>honda</th>\n",
       "      <th>chrysler</th>\n",
       "      <th>subaru</th>\n",
       "      <th>volkswagen</th>\n",
       "      <th>cadillac</th>\n",
       "      <th>hyundai</th>\n",
       "    </tr>\n",
       "  </thead>\n",
       "  <tbody>\n",
       "    <tr>\n",
       "      <th>bmw</th>\n",
       "      <td>0</td>\n",
       "      <td>0.702757</td>\n",
       "      <td>0.611915</td>\n",
       "      <td>0.671227</td>\n",
       "      <td>0.680841</td>\n",
       "      <td>0.913043</td>\n",
       "      <td>0.691485</td>\n",
       "      <td>0.812047</td>\n",
       "      <td>0.510865</td>\n",
       "      <td>0.685027</td>\n",
       "    </tr>\n",
       "    <tr>\n",
       "      <th>acura</th>\n",
       "      <td></td>\n",
       "      <td>0</td>\n",
       "      <td>0.585</td>\n",
       "      <td>0.574355</td>\n",
       "      <td>0.461761</td>\n",
       "      <td>0.397394</td>\n",
       "      <td>0.626595</td>\n",
       "      <td>0.661858</td>\n",
       "      <td>0.528362</td>\n",
       "      <td>0.639310</td>\n",
       "    </tr>\n",
       "    <tr>\n",
       "      <th>audi</th>\n",
       "      <td></td>\n",
       "      <td></td>\n",
       "      <td>0</td>\n",
       "      <td>0.590974</td>\n",
       "      <td>0.563472</td>\n",
       "      <td>0.647762</td>\n",
       "      <td>0.622711</td>\n",
       "      <td>0.459702</td>\n",
       "      <td>0.450153</td>\n",
       "      <td>0.669500</td>\n",
       "    </tr>\n",
       "    <tr>\n",
       "      <th>toyota</th>\n",
       "      <td></td>\n",
       "      <td></td>\n",
       "      <td></td>\n",
       "      <td>0</td>\n",
       "      <td>0.512239</td>\n",
       "      <td>0.679679</td>\n",
       "      <td>0.635699</td>\n",
       "      <td>0.592431</td>\n",
       "      <td>0.49898</td>\n",
       "      <td>0.575346</td>\n",
       "    </tr>\n",
       "    <tr>\n",
       "      <th>honda</th>\n",
       "      <td></td>\n",
       "      <td></td>\n",
       "      <td></td>\n",
       "      <td></td>\n",
       "      <td>0</td>\n",
       "      <td>0.349494</td>\n",
       "      <td>0.559838</td>\n",
       "      <td>0.537916</td>\n",
       "      <td>0.557771</td>\n",
       "      <td>0.467970</td>\n",
       "    </tr>\n",
       "    <tr>\n",
       "      <th>chrysler</th>\n",
       "      <td></td>\n",
       "      <td></td>\n",
       "      <td></td>\n",
       "      <td></td>\n",
       "      <td></td>\n",
       "      <td>0</td>\n",
       "      <td>0.644771</td>\n",
       "      <td>1.0526</td>\n",
       "      <td>0.44133</td>\n",
       "      <td>0.637837</td>\n",
       "    </tr>\n",
       "    <tr>\n",
       "      <th>subaru</th>\n",
       "      <td></td>\n",
       "      <td></td>\n",
       "      <td></td>\n",
       "      <td></td>\n",
       "      <td></td>\n",
       "      <td></td>\n",
       "      <td>0</td>\n",
       "      <td>0.64284</td>\n",
       "      <td>0.6356</td>\n",
       "      <td>0.564528</td>\n",
       "    </tr>\n",
       "    <tr>\n",
       "      <th>volkswagen</th>\n",
       "      <td></td>\n",
       "      <td></td>\n",
       "      <td></td>\n",
       "      <td></td>\n",
       "      <td></td>\n",
       "      <td></td>\n",
       "      <td></td>\n",
       "      <td>0</td>\n",
       "      <td>0.739753</td>\n",
       "      <td>0.518745</td>\n",
       "    </tr>\n",
       "    <tr>\n",
       "      <th>cadillac</th>\n",
       "      <td></td>\n",
       "      <td></td>\n",
       "      <td></td>\n",
       "      <td></td>\n",
       "      <td></td>\n",
       "      <td></td>\n",
       "      <td></td>\n",
       "      <td></td>\n",
       "      <td>0</td>\n",
       "      <td>0.467620</td>\n",
       "    </tr>\n",
       "    <tr>\n",
       "      <th>hyundai</th>\n",
       "      <td></td>\n",
       "      <td></td>\n",
       "      <td></td>\n",
       "      <td></td>\n",
       "      <td></td>\n",
       "      <td></td>\n",
       "      <td></td>\n",
       "      <td></td>\n",
       "      <td></td>\n",
       "      <td>0.000000</td>\n",
       "    </tr>\n",
       "  </tbody>\n",
       "</table>\n",
       "</div>"
      ],
      "text/plain": [
       "           bmw     acura      audi  ... volkswagen  cadillac   hyundai\n",
       "bmw          0  0.702757  0.611915  ...   0.812047  0.510865  0.685027\n",
       "acura                  0     0.585  ...   0.661858  0.528362  0.639310\n",
       "audi                             0  ...   0.459702  0.450153  0.669500\n",
       "toyota                              ...   0.592431   0.49898  0.575346\n",
       "honda                               ...   0.537916  0.557771  0.467970\n",
       "chrysler                            ...     1.0526   0.44133  0.637837\n",
       "subaru                              ...    0.64284    0.6356  0.564528\n",
       "volkswagen                          ...          0  0.739753  0.518745\n",
       "cadillac                            ...                    0  0.467620\n",
       "hyundai                             ...                       0.000000\n",
       "\n",
       "[10 rows x 10 columns]"
      ]
     },
     "execution_count": 24,
     "metadata": {},
     "output_type": "execute_result"
    }
   ],
   "source": [
    "dissimilarity = pd.DataFrame(index = top_brands, columns=top_brands)\n",
    "\n",
    "for brand1 in top_brands:\n",
    "  for brand2 in top_brands:\n",
    "    if brand1 == brand2:\n",
    "      dissimilarity[brand1][brand2] = np.nan\n",
    "      continue\n",
    "    dissimilarity[brand1][brand2] = 1/ (lift[brand1][brand2])\n",
    "dissimilarity_new = np.triu(dissimilarity)\n",
    "dissimilarity_df = pd.DataFrame(dissimilarity_new,columns=top_brands,index=top_brands)\n",
    "dissimilarity_df = dissimilarity_df.replace(0,\"\")\n",
    "dissimilarity_df = dissimilarity_df.fillna(0)\n",
    "dissimilarity_df"
   ]
  },
  {
   "cell_type": "code",
   "execution_count": null,
   "metadata": {
    "colab": {
     "base_uri": "https://localhost:8080/"
    },
    "id": "rBkhd8MAWhcB",
    "outputId": "6fbad53d-70bf-4418-99c0-b52f046a4eb4"
   },
   "outputs": [
    {
     "name": "stderr",
     "output_type": "stream",
     "text": [
      "/usr/local/lib/python3.7/dist-packages/sklearn/manifold/_mds.py:419: UserWarning: The MDS API has changed. ``fit`` now constructs an dissimilarity matrix from data. To use a custom dissimilarity matrix, set ``dissimilarity='precomputed'``.\n",
      "  warnings.warn(\"The MDS API has changed. ``fit`` now constructs an\"\n"
     ]
    },
    {
     "data": {
      "text/plain": [
       "array([[-0.88239255,  0.08215014],\n",
       "       [ 0.42938507,  0.305424  ],\n",
       "       [-0.39857842, -0.12233817],\n",
       "       [ 0.34842248, -0.47276098],\n",
       "       [ 0.55803723, -0.06872726],\n",
       "       [ 0.62958109,  0.65438566],\n",
       "       [-0.33384195,  0.55292828],\n",
       "       [-0.35076191, -0.82957088],\n",
       "       [-0.01279559,  0.27699506],\n",
       "       [ 0.01294453, -0.37848587]])"
      ]
     },
     "execution_count": 25,
     "metadata": {},
     "output_type": "execute_result"
    }
   ],
   "source": [
    "mds = MDS(2,random_state=0)\n",
    "X_2d = mds.fit_transform(dissimilarity.fillna(0))\n",
    "X_2d"
   ]
  },
  {
   "cell_type": "code",
   "execution_count": null,
   "metadata": {
    "colab": {
     "base_uri": "https://localhost:8080/",
     "height": 245
    },
    "id": "hEDyTtMZUy7x",
    "outputId": "bdf33eb9-7da9-4224-ea40-3fadeb5209ea"
   },
   "outputs": [
    {
     "name": "stderr",
     "output_type": "stream",
     "text": [
      "No handles with labels found to put in legend.\n"
     ]
    },
    {
     "data": {
      "image/png": "[encoded data removed]",
      "text/plain": [
       "<Figure size 432x288 with 1 Axes>"
      ]
     },
     "metadata": {
      "needs_background": "light"
     },
     "output_type": "display_data"
    }
   ],
   "source": [
    "plt.scatter(X_2d[:,0], X_2d[:,1])\n",
    "i=0\n",
    "\n",
    "for brand in top_brands:\n",
    "  plt.text(X_2d[i,0] + 0.05, \n",
    "           X_2d[i,1] + 0.01, \n",
    "           brand, fontsize = 12)\n",
    "  i += 1\n",
    "plt.legend()\n",
    "plt.show()"
   ]
  },
  {
   "cell_type": "markdown",
   "metadata": {
    "id": "33GRRvtEINfO"
   },
   "source": [
    "# Insights\n",
    "\n",
    "Based on lift values and MDS plot, we can see that when people talk about Honda brand, then they talk about Acura and Toyota too. This could imply that customers often compare cars of these brands. A point to note is that all these 3 brands are Japanese. So, it makes logical sense that people might be comparing Japanese cars. It could also imply that people are open to switching among Japanese brands. To get more concrete and actionable insights, more data should be obtained on actual brand switching.\n",
    "\n",
    "Another interesting point to note is that Audi and Volkswagen are both German brands but still pretty far in terms of comentions or people percieve them to be not so similar. Same thing can be found for Cadillac and Chrysler which are both under General Motors parent company.\n",
    "\n",
    "Another point of observation is that when people talk about BMW, then they don't talk about other brands as much. This could imply that in people's mind, BMW is an outlier.  "
   ]
  },
  {
   "cell_type": "markdown",
   "metadata": {
    "id": "leHQSzdrA19a"
   },
   "source": [
    "# Finding top attributes & their relation with different brands"
   ]
  },
  {
   "cell_type": "code",
   "execution_count": null,
   "metadata": {
    "id": "5qEx9k8CAWvE"
   },
   "outputs": [],
   "source": [
    "attribute_vectorizer = CountVectorizer(stop_words=nltk.corpus.stopwords.words('english'),\n",
    "                                       ngram_range = (1, 2))\n",
    "X = attribute_vectorizer.fit_transform([corpus])\n",
    "word_count = pd.Series(X.toarray()[0], index=attribute_vectorizer.get_feature_names())\n",
    "ranked_count = word_count.sort_values(ascending=False).reset_index()\n",
    "ranked_count.columns = ['word', 'freq']\n",
    "ranked_count.to_csv('/content/gdrive/MyDrive/unstructured assignment 1/freq.csv')"
   ]
  },
  {
   "cell_type": "markdown",
   "metadata": {
    "id": "SNs3m6cTEfja"
   },
   "source": [
    "Top 5 attributes \n",
    "1. Price\n",
    "2. Sport \n",
    "3. Performance\n",
    "4. Engine\n",
    "5. Luxury"
   ]
  },
  {
   "cell_type": "markdown",
   "metadata": {
    "id": "suEKiQQ5E2Ev"
   },
   "source": [
    "Other attributes - Power, HP, Cost, Problem, Manual, Interior"
   ]
  },
  {
   "cell_type": "code",
   "execution_count": null,
   "metadata": {
    "id": "S5yEU4gnEeBs"
   },
   "outputs": [],
   "source": [
    "top_attributes = ['performance', 'luxury', 'engine', 'sport', 'price']\n",
    "\n",
    "attribute_mentions = pd.DataFrame()\n",
    "\n",
    "for attr in top_attributes:\n",
    "  attribute_mentions[attr] = df['cleaned_comments'].apply(lambda s: 1 if attr in s else 0)"
   ]
  },
  {
   "cell_type": "code",
   "execution_count": null,
   "metadata": {
    "colab": {
     "base_uri": "https://localhost:8080/"
    },
    "id": "F3wNA8wjFhVA",
    "outputId": "99d1f24b-40d5-467c-a7d7-85d66374e6e3"
   },
   "outputs": [
    {
     "data": {
      "text/plain": [
       "performance    312\n",
       "luxury         285\n",
       "engine         433\n",
       "sport          496\n",
       "price          573\n",
       "dtype: int64"
      ]
     },
     "execution_count": 29,
     "metadata": {},
     "output_type": "execute_result"
    }
   ],
   "source": [
    "total_attribute_mentions = attribute_mentions.sum()\n",
    "total_attribute_mentions"
   ]
  },
  {
   "cell_type": "code",
   "execution_count": null,
   "metadata": {
    "colab": {
     "base_uri": "https://localhost:8080/",
     "height": 380
    },
    "id": "mmTa4Mg_FxS7",
    "outputId": "c3c754c0-094f-417f-ca42-96a7e518ef7f"
   },
   "outputs": [
    {
     "data": {
      "text/html": [
       "<div>\n",
       "<style scoped>\n",
       "    .dataframe tbody tr th:only-of-type {\n",
       "        vertical-align: middle;\n",
       "    }\n",
       "\n",
       "    .dataframe tbody tr th {\n",
       "        vertical-align: top;\n",
       "    }\n",
       "\n",
       "    .dataframe thead th {\n",
       "        text-align: right;\n",
       "    }\n",
       "</style>\n",
       "<table border=\"1\" class=\"dataframe\">\n",
       "  <thead>\n",
       "    <tr style=\"text-align: right;\">\n",
       "      <th></th>\n",
       "      <th>performance</th>\n",
       "      <th>luxury</th>\n",
       "      <th>engine</th>\n",
       "      <th>sport</th>\n",
       "      <th>price</th>\n",
       "    </tr>\n",
       "  </thead>\n",
       "  <tbody>\n",
       "    <tr>\n",
       "      <th>bmw</th>\n",
       "      <td>132</td>\n",
       "      <td>105</td>\n",
       "      <td>155</td>\n",
       "      <td>234</td>\n",
       "      <td>231</td>\n",
       "    </tr>\n",
       "    <tr>\n",
       "      <th>acura</th>\n",
       "      <td>169</td>\n",
       "      <td>144</td>\n",
       "      <td>211</td>\n",
       "      <td>225</td>\n",
       "      <td>258</td>\n",
       "    </tr>\n",
       "    <tr>\n",
       "      <th>audi</th>\n",
       "      <td>142</td>\n",
       "      <td>115</td>\n",
       "      <td>174</td>\n",
       "      <td>230</td>\n",
       "      <td>217</td>\n",
       "    </tr>\n",
       "    <tr>\n",
       "      <th>toyota</th>\n",
       "      <td>133</td>\n",
       "      <td>121</td>\n",
       "      <td>190</td>\n",
       "      <td>225</td>\n",
       "      <td>224</td>\n",
       "    </tr>\n",
       "    <tr>\n",
       "      <th>honda</th>\n",
       "      <td>72</td>\n",
       "      <td>73</td>\n",
       "      <td>99</td>\n",
       "      <td>131</td>\n",
       "      <td>130</td>\n",
       "    </tr>\n",
       "    <tr>\n",
       "      <th>chrysler</th>\n",
       "      <td>52</td>\n",
       "      <td>51</td>\n",
       "      <td>62</td>\n",
       "      <td>72</td>\n",
       "      <td>76</td>\n",
       "    </tr>\n",
       "    <tr>\n",
       "      <th>subaru</th>\n",
       "      <td>140</td>\n",
       "      <td>121</td>\n",
       "      <td>196</td>\n",
       "      <td>230</td>\n",
       "      <td>250</td>\n",
       "    </tr>\n",
       "    <tr>\n",
       "      <th>volkswagen</th>\n",
       "      <td>28</td>\n",
       "      <td>27</td>\n",
       "      <td>52</td>\n",
       "      <td>33</td>\n",
       "      <td>46</td>\n",
       "    </tr>\n",
       "    <tr>\n",
       "      <th>cadillac</th>\n",
       "      <td>33</td>\n",
       "      <td>44</td>\n",
       "      <td>28</td>\n",
       "      <td>31</td>\n",
       "      <td>68</td>\n",
       "    </tr>\n",
       "    <tr>\n",
       "      <th>hyundai</th>\n",
       "      <td>16</td>\n",
       "      <td>33</td>\n",
       "      <td>29</td>\n",
       "      <td>35</td>\n",
       "      <td>55</td>\n",
       "    </tr>\n",
       "  </tbody>\n",
       "</table>\n",
       "</div>"
      ],
      "text/plain": [
       "           performance luxury engine sport price\n",
       "bmw                132    105    155   234   231\n",
       "acura              169    144    211   225   258\n",
       "audi               142    115    174   230   217\n",
       "toyota             133    121    190   225   224\n",
       "honda               72     73     99   131   130\n",
       "chrysler            52     51     62    72    76\n",
       "subaru             140    121    196   230   250\n",
       "volkswagen          28     27     52    33    46\n",
       "cadillac            33     44     28    31    68\n",
       "hyundai             16     33     29    35    55"
      ]
     },
     "execution_count": 30,
     "metadata": {},
     "output_type": "execute_result"
    }
   ],
   "source": [
    "attr_comentions = pd.DataFrame(index = top_brands, columns=top_attributes)\n",
    "\n",
    "for brand in top_brands:\n",
    "  for attr in top_attributes:\n",
    "    attr_comentions[attr][brand] = pd.crosstab(mentions[brand], attribute_mentions[attr])[1][1]\n",
    "attr_comentions"
   ]
  },
  {
   "cell_type": "code",
   "execution_count": null,
   "metadata": {
    "colab": {
     "base_uri": "https://localhost:8080/",
     "height": 380
    },
    "id": "wCqBgnj8HHgW",
    "outputId": "91f4037e-8365-4d89-bab7-4dfb2bb50ef5"
   },
   "outputs": [
    {
     "data": {
      "text/html": [
       "<div>\n",
       "<style scoped>\n",
       "    .dataframe tbody tr th:only-of-type {\n",
       "        vertical-align: middle;\n",
       "    }\n",
       "\n",
       "    .dataframe tbody tr th {\n",
       "        vertical-align: top;\n",
       "    }\n",
       "\n",
       "    .dataframe thead th {\n",
       "        text-align: right;\n",
       "    }\n",
       "</style>\n",
       "<table border=\"1\" class=\"dataframe\">\n",
       "  <thead>\n",
       "    <tr style=\"text-align: right;\">\n",
       "      <th></th>\n",
       "      <th>performance</th>\n",
       "      <th>luxury</th>\n",
       "      <th>engine</th>\n",
       "      <th>sport</th>\n",
       "      <th>price</th>\n",
       "    </tr>\n",
       "  </thead>\n",
       "  <tbody>\n",
       "    <tr>\n",
       "      <th>bmw</th>\n",
       "      <td>0.0264</td>\n",
       "      <td>0.021</td>\n",
       "      <td>0.031</td>\n",
       "      <td>0.0468</td>\n",
       "      <td>0.0462</td>\n",
       "    </tr>\n",
       "    <tr>\n",
       "      <th>acura</th>\n",
       "      <td>0.0338</td>\n",
       "      <td>0.0288</td>\n",
       "      <td>0.0422</td>\n",
       "      <td>0.045</td>\n",
       "      <td>0.0516</td>\n",
       "    </tr>\n",
       "    <tr>\n",
       "      <th>audi</th>\n",
       "      <td>0.0284</td>\n",
       "      <td>0.023</td>\n",
       "      <td>0.0348</td>\n",
       "      <td>0.046</td>\n",
       "      <td>0.0434</td>\n",
       "    </tr>\n",
       "    <tr>\n",
       "      <th>toyota</th>\n",
       "      <td>0.0266</td>\n",
       "      <td>0.0242</td>\n",
       "      <td>0.038</td>\n",
       "      <td>0.045</td>\n",
       "      <td>0.0448</td>\n",
       "    </tr>\n",
       "    <tr>\n",
       "      <th>honda</th>\n",
       "      <td>0.0144</td>\n",
       "      <td>0.0146</td>\n",
       "      <td>0.0198</td>\n",
       "      <td>0.0262</td>\n",
       "      <td>0.026</td>\n",
       "    </tr>\n",
       "    <tr>\n",
       "      <th>chrysler</th>\n",
       "      <td>0.0104</td>\n",
       "      <td>0.0102</td>\n",
       "      <td>0.0124</td>\n",
       "      <td>0.0144</td>\n",
       "      <td>0.0152</td>\n",
       "    </tr>\n",
       "    <tr>\n",
       "      <th>subaru</th>\n",
       "      <td>0.028</td>\n",
       "      <td>0.0242</td>\n",
       "      <td>0.0392</td>\n",
       "      <td>0.046</td>\n",
       "      <td>0.05</td>\n",
       "    </tr>\n",
       "    <tr>\n",
       "      <th>volkswagen</th>\n",
       "      <td>0.0056</td>\n",
       "      <td>0.0054</td>\n",
       "      <td>0.0104</td>\n",
       "      <td>0.0066</td>\n",
       "      <td>0.0092</td>\n",
       "    </tr>\n",
       "    <tr>\n",
       "      <th>cadillac</th>\n",
       "      <td>0.0066</td>\n",
       "      <td>0.0088</td>\n",
       "      <td>0.0056</td>\n",
       "      <td>0.0062</td>\n",
       "      <td>0.0136</td>\n",
       "    </tr>\n",
       "    <tr>\n",
       "      <th>hyundai</th>\n",
       "      <td>0.0032</td>\n",
       "      <td>0.0066</td>\n",
       "      <td>0.0058</td>\n",
       "      <td>0.007</td>\n",
       "      <td>0.011</td>\n",
       "    </tr>\n",
       "  </tbody>\n",
       "</table>\n",
       "</div>"
      ],
      "text/plain": [
       "           performance  luxury  engine   sport   price\n",
       "bmw             0.0264   0.021   0.031  0.0468  0.0462\n",
       "acura           0.0338  0.0288  0.0422   0.045  0.0516\n",
       "audi            0.0284   0.023  0.0348   0.046  0.0434\n",
       "toyota          0.0266  0.0242   0.038   0.045  0.0448\n",
       "honda           0.0144  0.0146  0.0198  0.0262   0.026\n",
       "chrysler        0.0104  0.0102  0.0124  0.0144  0.0152\n",
       "subaru           0.028  0.0242  0.0392   0.046    0.05\n",
       "volkswagen      0.0056  0.0054  0.0104  0.0066  0.0092\n",
       "cadillac        0.0066  0.0088  0.0056  0.0062  0.0136\n",
       "hyundai         0.0032  0.0066  0.0058   0.007   0.011"
      ]
     },
     "execution_count": 31,
     "metadata": {},
     "output_type": "execute_result"
    }
   ],
   "source": [
    "attr_brand_support = attr_comentions / thread_count\n",
    "attr_brand_support"
   ]
  },
  {
   "cell_type": "code",
   "execution_count": null,
   "metadata": {
    "colab": {
     "base_uri": "https://localhost:8080/"
    },
    "id": "tJuN49YCHUUq",
    "outputId": "219e48f9-12e7-44ef-8803-807ca816a765"
   },
   "outputs": [
    {
     "data": {
      "text/plain": [
       "performance    0.0624\n",
       "luxury         0.0570\n",
       "engine         0.0866\n",
       "sport          0.0992\n",
       "price          0.1146\n",
       "dtype: float64"
      ]
     },
     "execution_count": 32,
     "metadata": {},
     "output_type": "execute_result"
    }
   ],
   "source": [
    "attr_support = total_attribute_mentions / thread_count\n",
    "attr_support"
   ]
  },
  {
   "cell_type": "code",
   "execution_count": null,
   "metadata": {
    "colab": {
     "base_uri": "https://localhost:8080/"
    },
    "id": "oVDC1DsnHfbI",
    "outputId": "c7eef9fe-b5c8-485a-afa6-19f79e4351e6"
   },
   "outputs": [
    {
     "data": {
      "text/plain": [
       "bmw           0.2228\n",
       "acura         0.2700\n",
       "audi          0.2340\n",
       "toyota        0.2374\n",
       "honda         0.1204\n",
       "chrysler      0.0836\n",
       "subaru        0.2576\n",
       "volkswagen    0.0554\n",
       "cadillac      0.0454\n",
       "hyundai       0.0412\n",
       "dtype: float64"
      ]
     },
     "execution_count": 33,
     "metadata": {},
     "output_type": "execute_result"
    }
   ],
   "source": [
    "support"
   ]
  },
  {
   "cell_type": "code",
   "execution_count": null,
   "metadata": {
    "colab": {
     "base_uri": "https://localhost:8080/",
     "height": 380
    },
    "id": "7nrvnfY-HkFj",
    "outputId": "acc793f8-8fb1-471c-af09-5a56b487c2ca"
   },
   "outputs": [
    {
     "data": {
      "text/html": [
       "<div>\n",
       "<style scoped>\n",
       "    .dataframe tbody tr th:only-of-type {\n",
       "        vertical-align: middle;\n",
       "    }\n",
       "\n",
       "    .dataframe tbody tr th {\n",
       "        vertical-align: top;\n",
       "    }\n",
       "\n",
       "    .dataframe thead th {\n",
       "        text-align: right;\n",
       "    }\n",
       "</style>\n",
       "<table border=\"1\" class=\"dataframe\">\n",
       "  <thead>\n",
       "    <tr style=\"text-align: right;\">\n",
       "      <th></th>\n",
       "      <th>performance</th>\n",
       "      <th>luxury</th>\n",
       "      <th>engine</th>\n",
       "      <th>sport</th>\n",
       "      <th>price</th>\n",
       "    </tr>\n",
       "  </thead>\n",
       "  <tbody>\n",
       "    <tr>\n",
       "      <th>bmw</th>\n",
       "      <td>1.89891</td>\n",
       "      <td>1.6536</td>\n",
       "      <td>1.60668</td>\n",
       "      <td>2.11748</td>\n",
       "      <td>1.80943</td>\n",
       "    </tr>\n",
       "    <tr>\n",
       "      <th>acura</th>\n",
       "      <td>2.00617</td>\n",
       "      <td>1.87135</td>\n",
       "      <td>1.80481</td>\n",
       "      <td>1.68011</td>\n",
       "      <td>1.66764</td>\n",
       "    </tr>\n",
       "    <tr>\n",
       "      <th>audi</th>\n",
       "      <td>1.94499</td>\n",
       "      <td>1.7244</td>\n",
       "      <td>1.7173</td>\n",
       "      <td>1.98167</td>\n",
       "      <td>1.61841</td>\n",
       "    </tr>\n",
       "    <tr>\n",
       "      <th>toyota</th>\n",
       "      <td>1.79563</td>\n",
       "      <td>1.78838</td>\n",
       "      <td>1.84835</td>\n",
       "      <td>1.91082</td>\n",
       "      <td>1.64669</td>\n",
       "    </tr>\n",
       "    <tr>\n",
       "      <th>honda</th>\n",
       "      <td>1.91669</td>\n",
       "      <td>2.12741</td>\n",
       "      <td>1.89898</td>\n",
       "      <td>2.19363</td>\n",
       "      <td>1.88435</td>\n",
       "    </tr>\n",
       "    <tr>\n",
       "      <th>chrysler</th>\n",
       "      <td>1.99362</td>\n",
       "      <td>2.14052</td>\n",
       "      <td>1.71276</td>\n",
       "      <td>1.73638</td>\n",
       "      <td>1.58655</td>\n",
       "    </tr>\n",
       "    <tr>\n",
       "      <th>subaru</th>\n",
       "      <td>1.74192</td>\n",
       "      <td>1.64814</td>\n",
       "      <td>1.7572</td>\n",
       "      <td>1.80012</td>\n",
       "      <td>1.69371</td>\n",
       "    </tr>\n",
       "    <tr>\n",
       "      <th>volkswagen</th>\n",
       "      <td>1.61992</td>\n",
       "      <td>1.71005</td>\n",
       "      <td>2.16773</td>\n",
       "      <td>1.20094</td>\n",
       "      <td>1.44908</td>\n",
       "    </tr>\n",
       "    <tr>\n",
       "      <th>cadillac</th>\n",
       "      <td>2.32972</td>\n",
       "      <td>3.40057</td>\n",
       "      <td>1.42434</td>\n",
       "      <td>1.37665</td>\n",
       "      <td>2.61396</td>\n",
       "    </tr>\n",
       "    <tr>\n",
       "      <th>hyundai</th>\n",
       "      <td>1.24471</td>\n",
       "      <td>2.81042</td>\n",
       "      <td>1.6256</td>\n",
       "      <td>1.71273</td>\n",
       "      <td>2.32976</td>\n",
       "    </tr>\n",
       "  </tbody>\n",
       "</table>\n",
       "</div>"
      ],
      "text/plain": [
       "           performance   luxury   engine    sport    price\n",
       "bmw            1.89891   1.6536  1.60668  2.11748  1.80943\n",
       "acura          2.00617  1.87135  1.80481  1.68011  1.66764\n",
       "audi           1.94499   1.7244   1.7173  1.98167  1.61841\n",
       "toyota         1.79563  1.78838  1.84835  1.91082  1.64669\n",
       "honda          1.91669  2.12741  1.89898  2.19363  1.88435\n",
       "chrysler       1.99362  2.14052  1.71276  1.73638  1.58655\n",
       "subaru         1.74192  1.64814   1.7572  1.80012  1.69371\n",
       "volkswagen     1.61992  1.71005  2.16773  1.20094  1.44908\n",
       "cadillac       2.32972  3.40057  1.42434  1.37665  2.61396\n",
       "hyundai        1.24471  2.81042   1.6256  1.71273  2.32976"
      ]
     },
     "execution_count": 34,
     "metadata": {},
     "output_type": "execute_result"
    }
   ],
   "source": [
    "attr_lift = pd.DataFrame(index = top_brands, columns=top_attributes)\n",
    "\n",
    "for brand in top_brands:\n",
    "  for attr in top_attributes:\n",
    "    attr_lift[attr][brand] = attr_brand_support[attr][brand] / (attr_support[attr] * support[brand])\n",
    "attr_lift"
   ]
  },
  {
   "cell_type": "markdown",
   "metadata": {
    "id": "mtfaADiPIKbO"
   },
   "source": [
    "# Advice\n",
    "\n",
    "Using this table, we can understand understand what are the top things people relate to regarding a brand.\n",
    "\n",
    "If a customer is interseted in sports car, then in addition to BMW customer can be shown an option of Honda. Normally, people don't consider for sports car. But the data suggests that Honda has similar, if not higher, association with sports than BMW.\n",
    "\n",
    "The attribute matrix provides better understanding of why Volkswagen and Audi are not percieved to be similar. Volswagen has high lift value with Engine but Audi has high lift value with sports car. This could mean that people consider Volkswagen to be an everyday car with high quality engine, whereas, Audi is thought of as sporty car.\n",
    "\n",
    "Looks like Cadillac has a high lift with Performance and Luxury but it has lift with price as well. This could mean that people might be willing to buy the price is too much."
   ]
  },
  {
   "cell_type": "markdown",
   "metadata": {
    "id": "VC9KfeZGIUrz"
   },
   "source": [
    "# Most Aspirational Brand"
   ]
  },
  {
   "cell_type": "markdown",
   "metadata": {
    "id": "v3r2-L66JnPB"
   },
   "source": [
    "Synonyms for Aspire - \"Love\", \"Hope\", \"Dream\", \"Wish\", \"Desire\", \"Wish\""
   ]
  },
  {
   "cell_type": "code",
   "execution_count": null,
   "metadata": {
    "id": "0aM85NW_IPwY"
   },
   "outputs": [],
   "source": [
    "synonyms = [\"love\", \"hope\", \"dream\", \"wish\", \"desire\", \n",
    "            \"wish\", \"aspire\"]"
   ]
  },
  {
   "cell_type": "code",
   "execution_count": null,
   "metadata": {
    "id": "3DrPLULLKIDu"
   },
   "outputs": [],
   "source": [
    "def contains_aspiration_words(string):\n",
    "  for word in synonyms:\n",
    "    if word in string:\n",
    "      return 1\n",
    "  return 0\n",
    "\n",
    "df['aspirational_comments'] = df['cleaned_comments'].apply(contains_aspiration_words)"
   ]
  },
  {
   "cell_type": "code",
   "execution_count": null,
   "metadata": {
    "id": "kxbzXv0MK9Bv"
   },
   "outputs": [],
   "source": [
    "df['aspirational_comments'].sum()\n",
    "\n",
    "prob_aspr = df['aspirational_comments'].sum() / thread_count"
   ]
  },
  {
   "cell_type": "code",
   "execution_count": null,
   "metadata": {
    "colab": {
     "base_uri": "https://localhost:8080/"
    },
    "id": "5DL0uHIpLiiD",
    "outputId": "2e0e5447-c82e-4cae-d7da-0e5eda54d32f"
   },
   "outputs": [
    {
     "data": {
      "text/plain": [
       "bmw           181.0\n",
       "acura         245.0\n",
       "audi          205.0\n",
       "toyota        217.0\n",
       "honda         116.0\n",
       "chrysler       60.0\n",
       "subaru        223.0\n",
       "volkswagen     48.0\n",
       "cadillac       51.0\n",
       "hyundai        35.0\n",
       "dtype: float64"
      ]
     },
     "execution_count": 38,
     "metadata": {},
     "output_type": "execute_result"
    }
   ],
   "source": [
    "aspr_comentions = pd.Series(index = top_brands, dtype='float64')\n",
    "\n",
    "for brand in top_brands:\n",
    "  aspr_comentions[brand] = pd.crosstab(mentions[brand], df['aspirational_comments'])[1][1]\n",
    "aspr_comentions"
   ]
  },
  {
   "cell_type": "code",
   "execution_count": null,
   "metadata": {
    "colab": {
     "base_uri": "https://localhost:8080/",
     "height": 210
    },
    "id": "zR67quFnL_Ok",
    "outputId": "c597980e-cae4-4ab7-a46d-79357fc3c197"
   },
   "outputs": [
    {
     "data": {
      "image/png": "[encoded data removed]",
      "text/plain": [
       "<Figure size 432x288 with 1 Axes>"
      ]
     },
     "metadata": {
      "needs_background": "light"
     },
     "output_type": "display_data"
    }
   ],
   "source": [
    "lift_aspr = (aspr_comentions / thread_count) / (prob_aspr * support)\n",
    "lift_aspr = lift_aspr.sort_values()\n",
    "plt.barh(lift_aspr.index, lift_aspr.values)\n",
    "plt.show()"
   ]
  },
  {
   "cell_type": "markdown",
   "metadata": {
    "id": "G6icXZAMv2Fw"
   },
   "source": [
    "# Business Implications\n",
    "\n",
    "Clearly, Cadillac is the most aspirational brand among all the brands discussed. This could mean that people aspire to own entry level luxury cars made by Cadillac.<br>\n",
    "<br>\n",
    "This means people want to buy the car. The dealership should do an in-depth analysis of people don't end up buying the car. One aspect could be the high prices of the car (as shown by the attribute analysis above). The business show either try to come up with a new pricing strategy to make car more affordable or identify the customers who have the money to pay for the cars."
   ]
  }
 ],
 "metadata": {
  "colab": {
   "collapsed_sections": [],
   "name": "Unstructured_Assignemnt1_lift_calculations.ipynb",
   "provenance": []
  },
  "kernelspec": {
   "display_name": "Python 3",
   "language": "python",
   "name": "python3"
  },
  "language_info": {
   "codemirror_mode": {
    "name": "ipython",
    "version": 3
   },
   "file_extension": ".py",
   "mimetype": "text/x-python",
   "name": "python",
   "nbconvert_exporter": "python",
   "pygments_lexer": "ipython3",
   "version": "3.8.8"
  },
  "varInspector": {
   "cols": {
    "lenName": 16,
    "lenType": 16,
    "lenVar": 40
   },
   "kernels_config": {
    "python": {
     "delete_cmd_postfix": "",
     "delete_cmd_prefix": "del ",
     "library": "var_list.py",
     "varRefreshCmd": "print(var_dic_list())"
    },
    "r": {
     "delete_cmd_postfix": ") ",
     "delete_cmd_prefix": "rm(",
     "library": "var_list.r",
     "varRefreshCmd": "cat(var_dic_list()) "
    }
   },
   "types_to_exclude": [
    "module",
    "function",
    "builtin_function_or_method",
    "instance",
    "_Feature"
   ],
   "window_display": false
  }
 },
 "nbformat": 4,
 "nbformat_minor": 1
}
